{
  "nbformat": 4,
  "nbformat_minor": 0,
  "metadata": {
    "colab": {
      "name": "ML08_TensorFlow.ipynb",
      "provenance": [],
      "collapsed_sections": [
        "_l3x-cmKd6j8",
        "5IrvsDDQe3nh",
        "sMYldQVbmkuV",
        "-fsUfVV__gju",
        "3XLqV1FYAPRY",
        "N2xzTLV1F0cD",
        "_79BpsnlX-5p",
        "THq9v1-4X-6A",
        "7pOj_8mUX-6O"
      ],
      "toc_visible": true,
      "include_colab_link": true
    },
    "language_info": {
      "codemirror_mode": {
        "name": "ipython",
        "version": 3
      },
      "file_extension": ".py",
      "mimetype": "text/x-python",
      "name": "python",
      "nbconvert_exporter": "python",
      "pygments_lexer": "ipython3",
      "version": "3.6.4"
    },
    "kernelspec": {
      "display_name": "Python 3",
      "language": "python",
      "name": "python3"
    },
    "accelerator": "GPU"
  },
  "cells": [
    {
      "cell_type": "markdown",
      "metadata": {
        "id": "view-in-github",
        "colab_type": "text"
      },
      "source": [
        "<a href=\"https://colab.research.google.com/github/DT6A/Hands-On_Machine_Learning/blob/main/ML08_TensorFlow.ipynb\" target=\"_parent\"><img src=\"https://colab.research.google.com/assets/colab-badge.svg\" alt=\"Open In Colab\"/></a>"
      ]
    },
    {
      "cell_type": "markdown",
      "metadata": {
        "id": "rc6ygGGTpXD2"
      },
      "source": [
        "##Simple graph\n"
      ]
    },
    {
      "cell_type": "code",
      "metadata": {
        "id": "Y16g-AvmpFHS",
        "outputId": "6dc0d1ac-8bca-44ec-967e-ff7f0015e3f2"
      },
      "source": [
        "import tensorflow as tf\n",
        "\n",
        "x = tf.Variable(3, name='x')\n",
        "y = tf.Variable(4, name='y')\n",
        "f = x * x * y + y + 2"
      ],
      "execution_count": null,
      "outputs": [
        {
          "output_type": "stream",
          "text": [
            "C:\\Anaconda3\\lib\\site-packages\\h5py\\__init__.py:36: FutureWarning: Conversion of the second argument of issubdtype from `float` to `np.floating` is deprecated. In future, it will be treated as `np.float64 == np.dtype(float).type`.\n",
            "  from ._conv import register_converters as _register_converters\n"
          ],
          "name": "stderr"
        }
      ]
    },
    {
      "cell_type": "code",
      "metadata": {
        "id": "vcztf7Dgpo53",
        "colab": {
          "base_uri": "https://localhost:8080/",
          "height": 34
        },
        "outputId": "d508945c-ffe7-4f43-9a0e-3eaeb708c6c7"
      },
      "source": [
        "sess = tf.Session()\n",
        "sess.run(x.initializer)\n",
        "sess.run(y.initializer)\n",
        "result = sess.run(f)\n",
        "print(result)\n",
        "sess.close()"
      ],
      "execution_count": null,
      "outputs": [
        {
          "output_type": "stream",
          "text": [
            "42\n"
          ],
          "name": "stdout"
        }
      ]
    },
    {
      "cell_type": "code",
      "metadata": {
        "id": "FNcDCcnJzCfg"
      },
      "source": [
        "with tf.Session() as sess:\n",
        "  x.initializer.run()\n",
        "  y.initializer.run()\n",
        "  result = f.eval()"
      ],
      "execution_count": null,
      "outputs": []
    },
    {
      "cell_type": "code",
      "metadata": {
        "id": "di7qdSHmzRCk",
        "colab": {
          "base_uri": "https://localhost:8080/",
          "height": 34
        },
        "outputId": "1dcee97d-7841-4908-d638-21c2844fc75c"
      },
      "source": [
        "result"
      ],
      "execution_count": null,
      "outputs": [
        {
          "output_type": "execute_result",
          "data": {
            "text/plain": [
              "42"
            ]
          },
          "metadata": {
            "tags": []
          },
          "execution_count": 4
        }
      ]
    },
    {
      "cell_type": "code",
      "metadata": {
        "id": "A7KRFO5KzUCN",
        "colab": {
          "base_uri": "https://localhost:8080/",
          "height": 34
        },
        "outputId": "6907ac8f-7f24-4b0d-b4ff-3c7122b89147"
      },
      "source": [
        "init = tf.global_variables_initializer()\n",
        "\n",
        "with tf.Session() as sess:\n",
        "  init.run()\n",
        "  result = f.eval()\n",
        "  print(result)"
      ],
      "execution_count": null,
      "outputs": [
        {
          "output_type": "stream",
          "text": [
            "42\n"
          ],
          "name": "stdout"
        }
      ]
    },
    {
      "cell_type": "code",
      "metadata": {
        "id": "VjntjDvCzrpt",
        "colab": {
          "base_uri": "https://localhost:8080/",
          "height": 34
        },
        "outputId": "81a1b173-745a-4df4-9e6d-0dd9dc86996b"
      },
      "source": [
        "sess = tf.InteractiveSession()\n",
        "init.run()\n",
        "result = f.eval()\n",
        "print(result)\n",
        "sess.close()"
      ],
      "execution_count": null,
      "outputs": [
        {
          "output_type": "stream",
          "text": [
            "42\n"
          ],
          "name": "stdout"
        }
      ]
    },
    {
      "cell_type": "markdown",
      "metadata": {
        "id": "g0gkdwM60tDT"
      },
      "source": [
        "##Graphs"
      ]
    },
    {
      "cell_type": "code",
      "metadata": {
        "id": "u6L3nUt40E5k",
        "colab": {
          "base_uri": "https://localhost:8080/",
          "height": 34
        },
        "outputId": "034cfcb1-10a4-4533-8546-586d03fa5616"
      },
      "source": [
        "tf.reset_default_graph()\n",
        "x1 = tf.Variable(1)\n",
        "x1.graph is tf.get_default_graph()"
      ],
      "execution_count": null,
      "outputs": [
        {
          "output_type": "execute_result",
          "data": {
            "text/plain": [
              "True"
            ]
          },
          "metadata": {
            "tags": []
          },
          "execution_count": 7
        }
      ]
    },
    {
      "cell_type": "code",
      "metadata": {
        "id": "X143W0dt0evF",
        "colab": {
          "base_uri": "https://localhost:8080/",
          "height": 51
        },
        "outputId": "08038613-3f3f-4aa4-d5ff-1449f410d581"
      },
      "source": [
        "graph = tf.Graph()\n",
        "with graph.as_default():\n",
        "  x2 = tf.Variable(2)\n",
        "print(x2.graph is graph)\n",
        "print(x2.graph is tf.get_default_graph())"
      ],
      "execution_count": null,
      "outputs": [
        {
          "output_type": "stream",
          "text": [
            "True\n",
            "False\n"
          ],
          "name": "stdout"
        }
      ]
    },
    {
      "cell_type": "markdown",
      "metadata": {
        "id": "BD3ljtpq1W5a"
      },
      "source": [
        "##Lifecycle"
      ]
    },
    {
      "cell_type": "code",
      "metadata": {
        "id": "MATem_dp1CIy",
        "colab": {
          "base_uri": "https://localhost:8080/",
          "height": 51
        },
        "outputId": "3b4cd63f-16ed-42d3-e1f4-cad64d3b5aac"
      },
      "source": [
        "w = tf.constant(3)\n",
        "x = w + 2\n",
        "y = x + 5\n",
        "z = x * 3\n",
        "\n",
        "with tf.Session() as sess:\n",
        "  print(y.eval())\n",
        "  print(z.eval())"
      ],
      "execution_count": null,
      "outputs": [
        {
          "output_type": "stream",
          "text": [
            "10\n",
            "15\n"
          ],
          "name": "stdout"
        }
      ]
    },
    {
      "cell_type": "code",
      "metadata": {
        "id": "RfjB_zxk1ZxL",
        "colab": {
          "base_uri": "https://localhost:8080/",
          "height": 51
        },
        "outputId": "5eb39260-7484-4719-a7f8-5f9cd101e7cc"
      },
      "source": [
        "with tf.Session() as sess:\n",
        "  y_val, z_val = sess.run([y, z])\n",
        "  print(y_val)\n",
        "  print(z_val)"
      ],
      "execution_count": null,
      "outputs": [
        {
          "output_type": "stream",
          "text": [
            "10\n",
            "15\n"
          ],
          "name": "stdout"
        }
      ]
    },
    {
      "cell_type": "markdown",
      "metadata": {
        "id": "G4chEEmj2lAo"
      },
      "source": [
        "##Linear regression"
      ]
    },
    {
      "cell_type": "code",
      "metadata": {
        "id": "U0ZEmgaS1ZrV"
      },
      "source": [
        "import numpy as np\n",
        "from sklearn.datasets import fetch_california_housing\n",
        "\n",
        "housing = fetch_california_housing()\n",
        "m, n = housing.data.shape\n",
        "housing_data_plus_bias = np.c_[np.ones((m, 1)), housing.data]\n",
        "\n",
        "X = tf.constant(housing_data_plus_bias, dtype=tf.float32, name='X')\n",
        "y = tf.constant(housing.target.reshape(-1, 1), dtype=tf.float32, name='y')\n",
        "XT = tf.transpose(X)\n",
        "theta = tf.matmul(tf.matmul(tf.matrix_inverse(tf.matmul(XT, X)), XT), y)\n",
        "\n",
        "with tf.Session() as sess:\n",
        "  theta_value = theta.eval()"
      ],
      "execution_count": null,
      "outputs": []
    },
    {
      "cell_type": "code",
      "metadata": {
        "id": "GCiiDubj4QIF",
        "colab": {
          "base_uri": "https://localhost:8080/",
          "height": 170
        },
        "outputId": "d983624f-4c0e-4e99-ef95-3ca89e5f42ac"
      },
      "source": [
        "theta_value"
      ],
      "execution_count": null,
      "outputs": [
        {
          "output_type": "execute_result",
          "data": {
            "text/plain": [
              "array([[-3.7185181e+01],\n",
              "       [ 4.3633747e-01],\n",
              "       [ 9.3952334e-03],\n",
              "       [-1.0711310e-01],\n",
              "       [ 6.4479220e-01],\n",
              "       [-4.0338000e-06],\n",
              "       [-3.7813708e-03],\n",
              "       [-4.2348403e-01],\n",
              "       [-4.3721911e-01]], dtype=float32)"
            ]
          },
          "metadata": {
            "tags": []
          },
          "execution_count": 12
        }
      ]
    },
    {
      "cell_type": "markdown",
      "metadata": {
        "id": "_l3x-cmKd6j8"
      },
      "source": [
        "##Gradient descent"
      ]
    },
    {
      "cell_type": "code",
      "metadata": {
        "id": "Oc0il-Qe4SVE"
      },
      "source": [
        "from sklearn.preprocessing import StandardScaler\n",
        "\n",
        "housing_data_plus_bias = np.c_[np.ones((m, 1)), StandardScaler().fit_transform(housing.data)]"
      ],
      "execution_count": null,
      "outputs": []
    },
    {
      "cell_type": "markdown",
      "metadata": {
        "id": "5IrvsDDQe3nh"
      },
      "source": [
        "###Manual"
      ]
    },
    {
      "cell_type": "code",
      "metadata": {
        "id": "ck4s3FF7ee2H"
      },
      "source": [
        "n_epochs = 1000\n",
        "learning_rate = 0.01\n",
        "\n",
        "X = tf.constant(housing_data_plus_bias, dtype=tf.float32, name='X')\n",
        "y = tf.constant(housing.target.reshape(-1, 1), dtype=tf.float32, name='y')\n",
        "theta = tf.Variable(tf.random_uniform([n + 1, 1], -1.0, 1.0), name='theta')\n",
        "y_pred = tf.matmul(X, theta, name='predictions')\n",
        "error = y_pred - y\n",
        "mse = tf.reduce_mean(tf.square(error), name='mse')\n",
        "gradients = 2 / m * tf.matmul(tf.transpose(X), error)\n",
        "training_op = tf.assign(theta, theta - learning_rate * gradients)"
      ],
      "execution_count": null,
      "outputs": []
    },
    {
      "cell_type": "code",
      "metadata": {
        "id": "vRxbhShFlY5C",
        "colab": {
          "base_uri": "https://localhost:8080/",
          "height": 187
        },
        "outputId": "62097f53-aa72-4dce-ca41-f06a6bcb661f"
      },
      "source": [
        "init = tf.global_variables_initializer()\n",
        "\n",
        "with tf.Session() as sess:\n",
        "  sess.run(init)\n",
        "  \n",
        "  for epoch in range(n_epochs):\n",
        "    if epoch % 100 == 0:\n",
        "      print('Epoch', epoch, 'MSE =', mse.eval())\n",
        "    sess.run(training_op)\n",
        "    \n",
        "  best_theta = theta.eval()"
      ],
      "execution_count": null,
      "outputs": [
        {
          "output_type": "stream",
          "text": [
            "Epoch 0 MSE = 5.617959\n",
            "Epoch 100 MSE = 0.70693284\n",
            "Epoch 200 MSE = 0.6088639\n",
            "Epoch 300 MSE = 0.58643645\n",
            "Epoch 400 MSE = 0.57080543\n",
            "Epoch 500 MSE = 0.55926675\n",
            "Epoch 600 MSE = 0.55070794\n",
            "Epoch 700 MSE = 0.54433733\n",
            "Epoch 800 MSE = 0.5395786\n",
            "Epoch 900 MSE = 0.53600967\n"
          ],
          "name": "stdout"
        }
      ]
    },
    {
      "cell_type": "code",
      "metadata": {
        "id": "1xKzmiqxl5pM",
        "colab": {
          "base_uri": "https://localhost:8080/",
          "height": 170
        },
        "outputId": "71dd509e-3acb-4a90-dbcb-091ce86c3f98"
      },
      "source": [
        "best_theta"
      ],
      "execution_count": null,
      "outputs": [
        {
          "output_type": "execute_result",
          "data": {
            "text/plain": [
              "array([[ 2.0685523 ],\n",
              "       [ 0.86538976],\n",
              "       [ 0.16531596],\n",
              "       [-0.25855896],\n",
              "       [ 0.26714796],\n",
              "       [ 0.01197103],\n",
              "       [-0.04402769],\n",
              "       [-0.5268432 ],\n",
              "       [-0.49805516]], dtype=float32)"
            ]
          },
          "metadata": {
            "tags": []
          },
          "execution_count": 16
        }
      ]
    },
    {
      "cell_type": "markdown",
      "metadata": {
        "id": "sMYldQVbmkuV"
      },
      "source": [
        "###Autodiff"
      ]
    },
    {
      "cell_type": "code",
      "metadata": {
        "id": "FrN4D-Jwl-Tp"
      },
      "source": [
        "gradients = tf.gradients(mse, [theta])[0]"
      ],
      "execution_count": null,
      "outputs": []
    },
    {
      "cell_type": "code",
      "metadata": {
        "id": "gFd9TSsanb3V",
        "colab": {
          "base_uri": "https://localhost:8080/",
          "height": 187
        },
        "outputId": "5438a4dd-ea66-4e42-ca41-5f85a382f41f"
      },
      "source": [
        "init = tf.global_variables_initializer()\n",
        "\n",
        "with tf.Session() as sess:\n",
        "  sess.run(init)\n",
        "  \n",
        "  for epoch in range(n_epochs):\n",
        "    if epoch % 100 == 0:\n",
        "      print('Epoch', epoch, 'MSE =', mse.eval())\n",
        "    sess.run(training_op)\n",
        "    \n",
        "  best_theta = theta.eval()"
      ],
      "execution_count": null,
      "outputs": [
        {
          "output_type": "stream",
          "text": [
            "Epoch 0 MSE = 6.438938\n",
            "Epoch 100 MSE = 0.67763126\n",
            "Epoch 200 MSE = 0.58009535\n",
            "Epoch 300 MSE = 0.56633157\n",
            "Epoch 400 MSE = 0.55726355\n",
            "Epoch 500 MSE = 0.550327\n",
            "Epoch 600 MSE = 0.5449523\n",
            "Epoch 700 MSE = 0.540763\n",
            "Epoch 800 MSE = 0.5374812\n",
            "Epoch 900 MSE = 0.53489715\n"
          ],
          "name": "stdout"
        }
      ]
    },
    {
      "cell_type": "markdown",
      "metadata": {
        "id": "-fsUfVV__gju"
      },
      "source": [
        "###Optimizers"
      ]
    },
    {
      "cell_type": "code",
      "metadata": {
        "id": "DZm65L8InemS"
      },
      "source": [
        "optimizer = tf.train.GradientDescentOptimizer(learning_rate=learning_rate)\n",
        "training_op = optimizer.minimize(mse)"
      ],
      "execution_count": null,
      "outputs": []
    },
    {
      "cell_type": "code",
      "metadata": {
        "id": "ZlxSrSml_zDx",
        "colab": {
          "base_uri": "https://localhost:8080/",
          "height": 187
        },
        "outputId": "55612330-2a59-4934-8d61-8df094b0d05c"
      },
      "source": [
        "init = tf.global_variables_initializer()\n",
        "\n",
        "with tf.Session() as sess:\n",
        "  sess.run(init)\n",
        "  \n",
        "  for epoch in range(n_epochs):\n",
        "    if epoch % 100 == 0:\n",
        "      print('Epoch', epoch, 'MSE =', mse.eval())\n",
        "    sess.run(training_op)\n",
        "    \n",
        "  best_theta = theta.eval()"
      ],
      "execution_count": null,
      "outputs": [
        {
          "output_type": "stream",
          "text": [
            "Epoch 0 MSE = 11.241144\n",
            "Epoch 100 MSE = 0.78911823\n",
            "Epoch 200 MSE = 0.6037446\n",
            "Epoch 300 MSE = 0.5824238\n",
            "Epoch 400 MSE = 0.5686009\n",
            "Epoch 500 MSE = 0.5582687\n",
            "Epoch 600 MSE = 0.5504819\n",
            "Epoch 700 MSE = 0.5445858\n",
            "Epoch 800 MSE = 0.5401005\n",
            "Epoch 900 MSE = 0.5366713\n"
          ],
          "name": "stdout"
        }
      ]
    },
    {
      "cell_type": "code",
      "metadata": {
        "id": "JQ20H_8h_2oq",
        "colab": {
          "base_uri": "https://localhost:8080/",
          "height": 187
        },
        "outputId": "a9332e12-8bac-4cec-d0c2-e9d198d8f729"
      },
      "source": [
        "optimizer = tf.train.MomentumOptimizer(learning_rate=learning_rate, momentum=0.9)\n",
        "training_op = optimizer.minimize(mse)\n",
        "\n",
        "init = tf.global_variables_initializer()\n",
        "\n",
        "with tf.Session() as sess:\n",
        "  sess.run(init)\n",
        "  \n",
        "  for epoch in range(n_epochs):\n",
        "    if epoch % 100 == 0:\n",
        "      print('Epoch', epoch, 'MSE =', mse.eval())\n",
        "    sess.run(training_op)\n",
        "    \n",
        "  best_theta = theta.eval()"
      ],
      "execution_count": null,
      "outputs": [
        {
          "output_type": "stream",
          "text": [
            "Epoch 0 MSE = 3.0966856\n",
            "Epoch 100 MSE = 0.53141576\n",
            "Epoch 200 MSE = 0.5250688\n",
            "Epoch 300 MSE = 0.5244173\n",
            "Epoch 400 MSE = 0.5243339\n",
            "Epoch 500 MSE = 0.52432287\n",
            "Epoch 600 MSE = 0.5243213\n",
            "Epoch 700 MSE = 0.524321\n",
            "Epoch 800 MSE = 0.524321\n",
            "Epoch 900 MSE = 0.52432084\n"
          ],
          "name": "stdout"
        }
      ]
    },
    {
      "cell_type": "markdown",
      "metadata": {
        "id": "3XLqV1FYAPRY"
      },
      "source": [
        "##SGD"
      ]
    },
    {
      "cell_type": "code",
      "metadata": {
        "id": "QLFkVXsHAOnR",
        "colab": {
          "base_uri": "https://localhost:8080/",
          "height": 68
        },
        "outputId": "ee83c423-c1df-4d80-d8ce-ae8ef9452e09"
      },
      "source": [
        "A = tf.placeholder(tf.float32, shape=(None, 3))\n",
        "B = A + 5\n",
        "\n",
        "with tf.Session() as sess:\n",
        "  B_val_1 = B.eval(feed_dict={A: [[1, 2, 3]]})\n",
        "  B_val_2 = B.eval(feed_dict={A: [[4, 5, 6], [7, 8, 9]]})\n",
        "  \n",
        "print(B_val_1)\n",
        "print(B_val_2)"
      ],
      "execution_count": null,
      "outputs": [
        {
          "output_type": "stream",
          "text": [
            "[[6. 7. 8.]]\n",
            "[[ 9. 10. 11.]\n",
            " [12. 13. 14.]]\n"
          ],
          "name": "stdout"
        }
      ]
    },
    {
      "cell_type": "code",
      "metadata": {
        "id": "hvmDlQAtAGQx"
      },
      "source": [
        "X = tf.placeholder(tf.float32, shape=(None, n + 1), name='X')\n",
        "y = tf.placeholder(tf.float32, shape=(None, 1), name='y')"
      ],
      "execution_count": null,
      "outputs": []
    },
    {
      "cell_type": "code",
      "metadata": {
        "id": "pSaZ0ZQdBVdX"
      },
      "source": [
        "batch_size = 100\n",
        "n_batches = int(np.ceil(m / batch_size))"
      ],
      "execution_count": null,
      "outputs": []
    },
    {
      "cell_type": "code",
      "metadata": {
        "id": "4Pf064rzBeSl",
        "colab": {
          "base_uri": "https://localhost:8080/",
          "height": 357
        },
        "outputId": "4f990bc1-d628-4f0e-9ca0-39409a1dcb47"
      },
      "source": [
        "def fetch_batch(epoch, batch_index, batch_size):\n",
        "  if epoch != fetch_batch.lep:\n",
        "    fetch_batch.lep = epoch\n",
        "    fetch_batch.ids = np.random.permutation(np.arange(m))\n",
        "  #print(epoch, batch_index, batch_size)\n",
        "  #print(fetch_batch.lep, fetch_batch.ids)\n",
        "  X_batch = housing_data_plus_bias[fetch_batch.ids[batch_index*batch_size:batch_index*batch_size + batch_size]]\n",
        "  y_batch = housing.target.reshape(-1, 1)[fetch_batch.ids[batch_index*batch_size:batch_index*batch_size + batch_size]]\n",
        "  return X_batch, y_batch\n",
        "\n",
        "fetch_batch.lep = -1\n",
        "fetch_batch.ids = [1]\n",
        "'''\n",
        "with tf.Session() as sess:\n",
        "  sess.run(init)\n",
        "  \n",
        "  for epoch in range(n_epochs):\n",
        "    if epoch % 50 == 0:\n",
        "      print('Epoch', epoch)\n",
        "    for batch_index in range(n_batches):\n",
        "      X_batch, y_batch = fetch_batch(epoch, batch_index, batch_size)\n",
        "      sess.run(training_op, feed_dict={X: X_batch, y: y_batch})\n",
        "  \n",
        "  best_theta = theta.eval()\n",
        "  '''"
      ],
      "execution_count": null,
      "outputs": [
        {
          "output_type": "execute_result",
          "data": {
            "text/plain": [
              "\"\\nwith tf.Session() as sess:\\n  sess.run(init)\\n  \\n  for epoch in range(n_epochs):\\n    if epoch % 50 == 0:\\n      print('Epoch', epoch)\\n    for batch_index in range(n_batches):\\n      X_batch, y_batch = fetch_batch(epoch, batch_index, batch_size)\\n      sess.run(training_op, feed_dict={X: X_batch, y: y_batch})\\n  \\n  best_theta = theta.eval()\\n  \""
            ]
          },
          "metadata": {
            "tags": []
          },
          "execution_count": 10
        }
      ]
    },
    {
      "cell_type": "code",
      "metadata": {
        "id": "BMAysqRUGQiP",
        "colab": {
          "base_uri": "https://localhost:8080/",
          "height": 170
        },
        "outputId": "e72e621b-4af1-4410-d7ed-897b7318741c"
      },
      "source": [
        "best_theta"
      ],
      "execution_count": null,
      "outputs": [
        {
          "output_type": "execute_result",
          "data": {
            "text/plain": [
              "array([[ 2.0685577 ],\n",
              "       [ 0.8296335 ],\n",
              "       [ 0.11875428],\n",
              "       [-0.2655537 ],\n",
              "       [ 0.30571845],\n",
              "       [-0.00450224],\n",
              "       [-0.03932679],\n",
              "       [-0.89985335],\n",
              "       [-0.8705102 ]], dtype=float32)"
            ]
          },
          "metadata": {
            "tags": []
          },
          "execution_count": 29
        }
      ]
    },
    {
      "cell_type": "markdown",
      "metadata": {
        "id": "N2xzTLV1F0cD"
      },
      "source": [
        "##Saves"
      ]
    },
    {
      "cell_type": "code",
      "metadata": {
        "id": "BCJhvXLCHJhU"
      },
      "source": [
        "saver = tf.train.Saver()"
      ],
      "execution_count": null,
      "outputs": []
    },
    {
      "cell_type": "code",
      "metadata": {
        "id": "ieZwZX5-X-4_"
      },
      "source": [
        "import os"
      ],
      "execution_count": null,
      "outputs": []
    },
    {
      "cell_type": "code",
      "metadata": {
        "id": "_nw9itG9EkDf",
        "colab": {
          "base_uri": "https://localhost:8080/",
          "height": 51
        },
        "outputId": "f581398b-0a04-4454-8df8-0b598efba23b"
      },
      "source": [
        "with tf.Session() as sess:\n",
        "  sess.run(init)\n",
        "  \n",
        "  for epoch in range(100):\n",
        "    if epoch % 100 == 0:\n",
        "      save_path = saver.save(sess, os.path.join(os.getcwd(), 'trained_variables.ckpt'))\n",
        "    if epoch % 50 == 0:\n",
        "      print('Epoch', epoch)\n",
        "    for batch_index in range(n_batches):\n",
        "      X_batch, y_batch = fetch_batch(epoch, batch_index, batch_size)\n",
        "      sess.run(training_op, feed_dict={X: X_batch, y: y_batch})\n",
        "  \n",
        "  best_theta = theta.eval()\n",
        "  save_path = saver.save(sess, os.path.join(os.getcwd(), 'model.ckpt'))"
      ],
      "execution_count": null,
      "outputs": [
        {
          "output_type": "stream",
          "text": [
            "Epoch 0\n",
            "Epoch 50\n"
          ],
          "name": "stdout"
        }
      ]
    },
    {
      "cell_type": "code",
      "metadata": {
        "id": "542MSiqIGaPb",
        "colab": {
          "base_uri": "https://localhost:8080/",
          "height": 34
        },
        "outputId": "f0b1cef4-3ceb-4f58-9ac5-2e7f040afe8f"
      },
      "source": [
        "save_path"
      ],
      "execution_count": null,
      "outputs": [
        {
          "output_type": "execute_result",
          "data": {
            "text/plain": [
              "'model.ckpt'"
            ]
          },
          "metadata": {
            "tags": []
          },
          "execution_count": 37
        }
      ]
    },
    {
      "cell_type": "code",
      "metadata": {
        "id": "3Y7PkmYXG04h",
        "colab": {
          "base_uri": "https://localhost:8080/",
          "height": 170
        },
        "outputId": "5467d822-e087-4488-a8f9-b0fdd64c43a6"
      },
      "source": [
        "with tf.Session() as sess:\n",
        "  saver.restore(sess, save_path)\n",
        "  print(theta.eval())"
      ],
      "execution_count": null,
      "outputs": [
        {
          "output_type": "stream",
          "text": [
            "INFO:tensorflow:Restoring parameters from C:\\Users\\компьютер\\DT6A\\HandsOn\\model.ckpt\n",
            "[[ 2.068558  ]\n",
            " [ 0.82962054]\n",
            " [ 0.11875188]\n",
            " [-0.26552904]\n",
            " [ 0.305698  ]\n",
            " [-0.00450293]\n",
            " [-0.03932633]\n",
            " [-0.89988273]\n",
            " [-0.87053823]]\n"
          ],
          "name": "stdout"
        }
      ]
    },
    {
      "cell_type": "code",
      "metadata": {
        "id": "EpkdNldsHARM"
      },
      "source": [
        "saver = tf.train.Saver({'weights': theta})"
      ],
      "execution_count": null,
      "outputs": []
    },
    {
      "cell_type": "code",
      "metadata": {
        "id": "PntsAYCnHW5a",
        "outputId": "cd73ff92-8190-4c8e-d3e0-a85620adee76"
      },
      "source": [
        "saver = tf.train.import_meta_graph(save_path+'.meta')\n",
        "\n",
        "with tf.Session() as sess:\n",
        "  saver.restore(sess, save_path)"
      ],
      "execution_count": null,
      "outputs": [
        {
          "output_type": "stream",
          "text": [
            "INFO:tensorflow:Restoring parameters from C:\\Users\\компьютер\\DT6A\\HandsOn\\model.ckpt\n"
          ],
          "name": "stdout"
        }
      ]
    },
    {
      "cell_type": "code",
      "metadata": {
        "id": "Eg4RpWy9FJmx"
      },
      "source": [
        "from datetime import datetime\n",
        "\n",
        "now = datetime.utcnow().strftime('%Y%m%d%H%M%S')\n",
        "root_logdir = 'tf_logs'\n",
        "logdir = '{}/run-{}/'.format(root_logdir, now)"
      ],
      "execution_count": null,
      "outputs": []
    },
    {
      "cell_type": "code",
      "metadata": {
        "id": "Q49d4WwoGYrX"
      },
      "source": [
        "mse_summary = tf.summary.scalar('MSE', mse)\n",
        "file_writer = tf.summary.FileWriter(logdir, tf.get_default_graph())"
      ],
      "execution_count": null,
      "outputs": []
    },
    {
      "cell_type": "code",
      "metadata": {
        "id": "kx0dA8enGjf3",
        "outputId": "cd815a17-1699-40ad-d39f-2a1433b0fff1"
      },
      "source": [
        "with tf.Session() as sess:\n",
        "  sess.run(init)\n",
        "  \n",
        "  for epoch in range(1000):\n",
        "    if epoch % 100 == 0:\n",
        "      save_path = saver.save(sess, os.path.join(os.getcwd(), 'trained_variables.ckpt'))\n",
        "    if epoch % 50 == 0:\n",
        "      print('Epoch', epoch)\n",
        "    for batch_index in range(n_batches):\n",
        "      X_batch, y_batch = fetch_batch(epoch, batch_index, batch_size)\n",
        "      if batch_index % 10 == 0:\n",
        "            summary_str = mse_summary.eval(feed_dict={X: X_batch, y: y_batch})\n",
        "            step = epoch * n_batches + batch_index\n",
        "            file_writer.add_summary(summary_str, step)\n",
        "      sess.run(training_op, feed_dict={X: X_batch, y: y_batch})\n",
        "  \n",
        "  best_theta = theta.eval()\n",
        "  save_path = saver.save(sess, os.path.join(os.getcwd(), 'model.ckpt'))\n",
        "\n",
        "file_writer.close()"
      ],
      "execution_count": null,
      "outputs": [
        {
          "output_type": "stream",
          "text": [
            "Epoch 0\n",
            "Epoch 50\n",
            "Epoch 100\n",
            "Epoch 150\n",
            "Epoch 200\n",
            "Epoch 250\n",
            "Epoch 300\n",
            "Epoch 350\n",
            "Epoch 400\n",
            "Epoch 450\n",
            "Epoch 500\n",
            "Epoch 550\n",
            "Epoch 600\n",
            "Epoch 650\n",
            "Epoch 700\n",
            "Epoch 750\n",
            "Epoch 800\n",
            "Epoch 850\n",
            "Epoch 900\n",
            "Epoch 950\n"
          ],
          "name": "stdout"
        }
      ]
    },
    {
      "cell_type": "code",
      "metadata": {
        "id": "jRjgnqGpX-5g"
      },
      "source": [
        "!tensorboard --logdir tf_logs/"
      ],
      "execution_count": null,
      "outputs": []
    },
    {
      "cell_type": "code",
      "metadata": {
        "id": "HE-NpCAiX-5k"
      },
      "source": [
        "import os\n",
        "from io import BytesIO\n",
        "import numpy as np\n",
        "from functools import partial\n",
        "import PIL.Image\n",
        "from IPython.display import clear_output, Image, display, HTML\n",
        "\n",
        "def show_graph(graph_def, max_const_size=32):\n",
        "    \"\"\"Visualize TensorFlow graph.\"\"\"\n",
        "    if hasattr(graph_def, 'as_graph_def'):\n",
        "        graph_def = graph_def.as_graph_def()\n",
        "    strip_def = strip_consts(graph_def, max_const_size=max_const_size)\n",
        "    code = \"\"\"\n",
        "        <script>\n",
        "          function load() {{\n",
        "            document.getElementById(\"{id}\").pbtxt = {data};\n",
        "          }}\n",
        "        </script>\n",
        "        <link rel=\"import\" href=\"https://tensorboard.appspot.com/tf-graph-basic.build.html\" onload=load()>\n",
        "        <div style=\"height:600px\">\n",
        "          <tf-graph-basic id=\"{id}\"></tf-graph-basic>\n",
        "        </div>\n",
        "    \"\"\".format(data=repr(str(strip_def)), id='graph'+str(np.random.rand()))\n",
        "  \n",
        "    iframe = \"\"\"\n",
        "        <iframe seamless style=\"width:800px;height:620px;border:0\" srcdoc=\"{}\"></iframe>\n",
        "    \"\"\".format(code.replace('\"', '&quot;'))\n",
        "    display(HTML(iframe))"
      ],
      "execution_count": null,
      "outputs": []
    },
    {
      "cell_type": "markdown",
      "metadata": {
        "id": "_79BpsnlX-5p"
      },
      "source": [
        "##Name Scopes"
      ]
    },
    {
      "cell_type": "code",
      "metadata": {
        "id": "eSo-_Np8X-5t"
      },
      "source": [
        "def reset_graph(seed=42):\n",
        "    tf.reset_default_graph()\n",
        "    tf.set_random_seed(seed)\n",
        "    np.random.seed(seed)"
      ],
      "execution_count": null,
      "outputs": []
    },
    {
      "cell_type": "code",
      "metadata": {
        "id": "8BeFY8m6X-5x"
      },
      "source": [
        "reset_graph()\n",
        "\n",
        "now = datetime.utcnow().strftime(\"%Y%m%d%H%M%S\")\n",
        "root_logdir = \"tf_logs\"\n",
        "logdir = \"{}/run-{}/\".format(root_logdir, now)\n",
        "\n",
        "n_epochs = 1000\n",
        "learning_rate = 0.01\n",
        "\n",
        "X = tf.placeholder(tf.float32, shape=(None, n + 1), name=\"X\")\n",
        "y = tf.placeholder(tf.float32, shape=(None, 1), name=\"y\")\n",
        "theta = tf.Variable(tf.random_uniform([n + 1, 1], -1.0, 1.0, seed=42), name=\"theta\")\n",
        "y_pred = tf.matmul(X, theta, name=\"predictions\")"
      ],
      "execution_count": null,
      "outputs": []
    },
    {
      "cell_type": "code",
      "metadata": {
        "id": "Ip5cIIxBX-5z"
      },
      "source": [
        "with tf.name_scope(\"loss\") as scope:\n",
        "    error = y_pred - y\n",
        "    mse = tf.reduce_mean(tf.square(error), name=\"mse\")"
      ],
      "execution_count": null,
      "outputs": []
    },
    {
      "cell_type": "code",
      "metadata": {
        "id": "9RTQMcdmX-51"
      },
      "source": [
        "optimizer = tf.train.GradientDescentOptimizer(learning_rate=learning_rate)\n",
        "training_op = optimizer.minimize(mse)\n",
        "\n",
        "init = tf.global_variables_initializer()\n",
        "\n",
        "mse_summary = tf.summary.scalar('MSE', mse)\n",
        "file_writer = tf.summary.FileWriter(logdir, tf.get_default_graph())"
      ],
      "execution_count": null,
      "outputs": []
    },
    {
      "cell_type": "code",
      "metadata": {
        "id": "HGuy45kGX-54",
        "outputId": "06a50bdd-06a6-4044-92a4-bf66fb2097aa"
      },
      "source": [
        "with tf.Session() as sess:\n",
        "  sess.run(init)\n",
        "  \n",
        "  for epoch in range(10):\n",
        "    #if epoch % 100 == 0:\n",
        "     # save_path = saver.save(sess, os.path.join(os.getcwd(), 'trained_variables.ckpt'))\n",
        "    if epoch % 50 == 0:\n",
        "      print('Epoch', epoch)\n",
        "    for batch_index in range(n_batches):\n",
        "      X_batch, y_batch = fetch_batch(epoch, batch_index, batch_size)\n",
        "      if batch_index % 10 == 0:\n",
        "            summary_str = mse_summary.eval(feed_dict={X: X_batch, y: y_batch})\n",
        "            step = epoch * n_batches + batch_index\n",
        "            file_writer.add_summary(summary_str, step)\n",
        "      sess.run(training_op, feed_dict={X: X_batch, y: y_batch})\n",
        "  \n",
        "  best_theta = theta.eval()\n",
        "  #save_path = saver.save(sess, os.path.join(os.getcwd(), 'model.ckpt'))\n",
        "\n",
        "file_writer.close()"
      ],
      "execution_count": null,
      "outputs": [
        {
          "output_type": "stream",
          "text": [
            "Epoch 0\n"
          ],
          "name": "stdout"
        }
      ]
    },
    {
      "cell_type": "markdown",
      "metadata": {
        "id": "THq9v1-4X-6A"
      },
      "source": [
        "## Modularity\n",
        "ReLU\n",
        "\n",
        "$h_{w, b}(X) = max(Xw + b, 0)$"
      ]
    },
    {
      "cell_type": "code",
      "metadata": {
        "id": "UP5ZwZZYX-6B"
      },
      "source": [
        "reset_graph()"
      ],
      "execution_count": null,
      "outputs": []
    },
    {
      "cell_type": "code",
      "metadata": {
        "id": "p4eoprKBX-6D"
      },
      "source": [
        "n_features = 3\n",
        "X = tf.placeholder(tf.float32, shape=(None, n_features), name = 'X')\n",
        "\n",
        "w1 = tf.Variable(tf.random_normal((n_features, 1)), name='weights1')\n",
        "w2 = tf.Variable(tf.random_normal((n_features, 1)), name='weights2')\n",
        "b1 = tf.Variable(0.0, name='bias1')\n",
        "b2 = tf.Variable(0.0, name='bias2')\n",
        "\n",
        "z1 = tf.add(tf.matmul(X, w1), b1, name='z1')\n",
        "z2 = tf.add(tf.matmul(X, w2), b2, name='z2')\n",
        "\n",
        "relu1 = tf.maximum(z1, 0, name='relu1')\n",
        "relu2 = tf.maximum(z2, 0, name='relu2')\n",
        "\n",
        "output = tf.add(relu1, relu2, name='output')"
      ],
      "execution_count": null,
      "outputs": []
    },
    {
      "cell_type": "code",
      "metadata": {
        "id": "moFyFkPsX-6F"
      },
      "source": [
        "reset_graph()"
      ],
      "execution_count": null,
      "outputs": []
    },
    {
      "cell_type": "code",
      "metadata": {
        "id": "1D65wtnoX-6J"
      },
      "source": [
        "def relu(X):\n",
        "    with tf.name_scope('relu'):\n",
        "        w_shape = (int(X.get_shape()[1]), 1)\n",
        "        w = tf.Variable(tf.random_normal(w_shape), name='weights')\n",
        "        b = tf.Variable(0.0, name='bias')\n",
        "        z = tf.add(tf.matmul(X, w), b, name='z')\n",
        "        return tf.maximum(z, 0, name='relu')"
      ],
      "execution_count": null,
      "outputs": []
    },
    {
      "cell_type": "code",
      "metadata": {
        "id": "RCbDnrBcX-6L"
      },
      "source": [
        "n_features = 3\n",
        "X = tf.placeholder(tf.float32, (None, n_features), name='X')\n",
        "relus = [relu(X) for i in range(5)]\n",
        "output = tf.add_n(relus, name='output')\n",
        "file_writer = tf.summary.FileWriter(\"tf_logs/relu2\", tf.get_default_graph())\n",
        "file_writer.close()"
      ],
      "execution_count": null,
      "outputs": []
    },
    {
      "cell_type": "markdown",
      "metadata": {
        "id": "7pOj_8mUX-6O"
      },
      "source": [
        "## Sharing Variables"
      ]
    },
    {
      "cell_type": "code",
      "metadata": {
        "id": "Lfrjl6eSX-6O"
      },
      "source": [
        "def relu(X, threshold):\n",
        "    with tf.name_scope('relu'):\n",
        "        w_shape = (int(X.get_shape()[1]), 1)\n",
        "        w = tf.Variable(tf.random_normal(w_shape), name='weights')\n",
        "        b = tf.Variable(0.0, name='bias')\n",
        "        z = tf.add(tf.matmul(X, w), b, name='z')\n",
        "        return tf.maximum(z, threshold, name='relu')"
      ],
      "execution_count": null,
      "outputs": []
    },
    {
      "cell_type": "code",
      "metadata": {
        "id": "EthYPpQWX-6T"
      },
      "source": [
        "threshold = tf.Variable(0.0, name='threshold')\n",
        "X = tf.placeholder(tf.float32, (None, n_features), name='X')\n",
        "relus = [relu(X, threshold) for i in range(5)]\n",
        "output = tf.add_n(relus, name='output')\n",
        "file_writer = tf.summary.FileWriter(\"tf_logs/relu2\", tf.get_default_graph())\n",
        "file_writer.close()"
      ],
      "execution_count": null,
      "outputs": []
    },
    {
      "cell_type": "code",
      "metadata": {
        "id": "vE_zua6EX-6W"
      },
      "source": [
        "reset_graph()"
      ],
      "execution_count": null,
      "outputs": []
    },
    {
      "cell_type": "code",
      "metadata": {
        "id": "5F6btz4uX-6a"
      },
      "source": [
        "def relu(X):\n",
        "    with tf.name_scope('relu'):\n",
        "        if not hasattr(relu, 'threshold'):\n",
        "            relu.threshold = tf.Variable(0, name='threshold')\n",
        "        w_shape = (int(X.get_shape()[1]), 1)\n",
        "        w = tf.Variable(tf.random_normal(w_shape), name='weights')\n",
        "        b = tf.Variable(0.0, name='bias')\n",
        "        z = tf.add(tf.matmul(X, w), b, name='z')\n",
        "        return tf.maximum(z, relu.threshold, name='relu')"
      ],
      "execution_count": null,
      "outputs": []
    },
    {
      "cell_type": "code",
      "metadata": {
        "id": "8ZW8N-2PX-6c"
      },
      "source": [
        "with tf.variable_scope('relu'):\n",
        "    threshold = tf.get_variable('threshold', shape=(), initializer=tf.constant_initializer(0.0))"
      ],
      "execution_count": null,
      "outputs": []
    },
    {
      "cell_type": "code",
      "metadata": {
        "id": "gaUhW00_X-6f"
      },
      "source": [
        "with tf.variable_scope('relu', reuse=True):\n",
        "    threshold = tf.get_variable('threshold')"
      ],
      "execution_count": null,
      "outputs": []
    },
    {
      "cell_type": "code",
      "metadata": {
        "id": "cBvsBHYyX-6h"
      },
      "source": [
        "with tf.variable_scope('relu') as scope:\n",
        "    scope.reuse_variables()\n",
        "    threshold = tf.get_variable('threshold')"
      ],
      "execution_count": null,
      "outputs": []
    },
    {
      "cell_type": "code",
      "metadata": {
        "id": "PiHN8Zj-X-6j"
      },
      "source": [
        "reset_graph()\n",
        "\n",
        "def relu(X):\n",
        "    with tf.variable_scope('relu', reuse=True):\n",
        "        threshold = tf.get_variable('threshold') # reuse existing variable\n",
        "        w_shape = (int(X.get_shape()[1]), 1)\n",
        "        w = tf.Variable(tf.random_normal(w_shape), name='weights')\n",
        "        b = tf.Variable(0.0, name='bias')\n",
        "        z = tf.add(tf.matmul(X, w), b, name='z')\n",
        "        return tf.maximum(z, threshold, name='relu')\n",
        "    \n",
        "X = tf.placeholder(tf.float32, (None, n_features), name='X')\n",
        "with tf.variable_scope('relu'): # create new variable\n",
        "    threshold = tf.get_variable('threshold', shape=(), initializer=tf.constant_initializer(0.0))\n",
        "relus = [relu(X) for i in range(5)]\n",
        "output = tf.add_n(relus, name='output')\n",
        "\n",
        "file_writer = tf.summary.FileWriter(\"tf_logs/relu2\", tf.get_default_graph())\n",
        "file_writer.close()"
      ],
      "execution_count": null,
      "outputs": []
    },
    {
      "cell_type": "code",
      "metadata": {
        "id": "cMjJWlG-X-6l"
      },
      "source": [
        "reset_graph()\n",
        "\n",
        "def relu(X):\n",
        "    threshold = tf.get_variable('threshold', shape=(), initializer=tf.constant_initializer(0.0))\n",
        "    w_shape = (int(X.get_shape()[1]), 1)\n",
        "    w = tf.Variable(tf.random_normal(w_shape), name='weights')\n",
        "    b = tf.Variable(0.0, name='bias')\n",
        "    z = tf.add(tf.matmul(X, w), b, name='z')\n",
        "    return tf.maximum(z, threshold, name='relu')\n",
        "    \n",
        "X = tf.placeholder(tf.float32, (None, n_features), name='X')\n",
        "relus = []\n",
        "for relu_index in range(5):\n",
        "    with tf.variable_scope('relu', reuse=(relu_index >= 1 or None)) as scope:\n",
        "        relus.append(relu(X))\n",
        "output = tf.add_n(relus, name='output')\n",
        "\n",
        "file_writer = tf.summary.FileWriter(\"tf_logs/relu\", tf.get_default_graph())\n",
        "file_writer.close()"
      ],
      "execution_count": null,
      "outputs": []
    },
    {
      "cell_type": "code",
      "metadata": {
        "id": "A3WHHMp6X-6o"
      },
      "source": [
        "from sklearn.datasets import make_moons\n",
        "\n",
        "X_data, y_data = make_moons(1000, noise=0.1, random_state=42)"
      ],
      "execution_count": null,
      "outputs": []
    },
    {
      "cell_type": "code",
      "metadata": {
        "id": "xCd9uiw4DlUa",
        "colab": {
          "base_uri": "https://localhost:8080/",
          "height": 286
        },
        "outputId": "12f6217c-c2c9-4794-fef8-d58dc9d533c2"
      },
      "source": [
        "from matplotlib import pyplot as plt\n",
        "\n",
        "plt.scatter(X_data[:, 0], X_data[:, 1], c=y_data)"
      ],
      "execution_count": null,
      "outputs": [
        {
          "output_type": "execute_result",
          "data": {
            "text/plain": [
              "<matplotlib.collections.PathCollection at 0x7f1a2e582358>"
            ]
          },
          "metadata": {
            "tags": []
          },
          "execution_count": 161
        },
        {
          "output_type": "display_data",
          "data": {
            "image/png": "[encoded data removed]",
            "text/plain": [
              "<Figure size 432x288 with 1 Axes>"
            ]
          },
          "metadata": {
            "tags": []
          }
        }
      ]
    },
    {
      "cell_type": "code",
      "metadata": {
        "id": "UbRjnOWmFPVm"
      },
      "source": [
        "import numpy as np\n",
        "from sklearn.preprocessing import StandardScaler\n",
        "\n",
        "X_data = np.c_[np.ones((1000, 1)), StandardScaler().fit_transform(X_data)]"
      ],
      "execution_count": null,
      "outputs": []
    },
    {
      "cell_type": "code",
      "metadata": {
        "id": "cW_5bxv-D8Rp"
      },
      "source": [
        "import tensorflow as tf\n",
        "\n",
        "reset_graph()\n",
        "\n",
        "X = tf.placeholder(tf.float32, (None, 3), name='X')\n",
        "y = tf.placeholder(tf.float32, (None, 1), name='y')\n",
        "\n",
        "theta = tf.Variable(tf.random_uniform([3, 1], -1, 1), name='Weights')\n",
        "logits = tf.matmul(X, theta)\n",
        "y_pred = tf.sigmoid(logits)\n",
        "\n",
        "cross_entr = tf.losses.log_loss(y, y_pred)\n",
        "\n",
        "learning_rate = 0.01\n",
        "optimizer = tf.train.GradientDescentOptimizer(learning_rate=learning_rate)\n",
        "train_step = optimizer.minimize(cross_entr)\n",
        "\n",
        "batch_size = 64\n",
        "n_epoches = 1000"
      ],
      "execution_count": null,
      "outputs": []
    },
    {
      "cell_type": "code",
      "metadata": {
        "id": "raR9PGeFIZ6V"
      },
      "source": [
        "n_batches = np.ceil(len(X_data) / batch_size).astype(np.int)"
      ],
      "execution_count": null,
      "outputs": []
    },
    {
      "cell_type": "code",
      "metadata": {
        "id": "Bvw0K8TVM5l1"
      },
      "source": [
        "X_train = X_data[:int(0.8 * len(X_data))]\n",
        "X_test = X_data[int(0.8 * len(X_data)):]\n",
        "y_train = y_data[:int(0.8 * len(y_data))]\n",
        "y_test = y_data[int(0.8 * len(y_data)):].reshape(-1, 1)"
      ],
      "execution_count": null,
      "outputs": []
    },
    {
      "cell_type": "code",
      "metadata": {
        "id": "CX6DlH3TH7Ag"
      },
      "source": [
        "def GetBatch(epoch, batch_idx, batch_size=batch_size):\n",
        "  np.random.seed(epoch * n_batches + batch_idx)\n",
        "  idx = np.random.randint(0, len(X_train), batch_size)\n",
        "  return X_train[idx], y_train[idx].reshape(-1, 1)"
      ],
      "execution_count": null,
      "outputs": []
    },
    {
      "cell_type": "code",
      "metadata": {
        "id": "q-NZL-q4ELkX",
        "colab": {
          "base_uri": "https://localhost:8080/",
          "height": 353
        },
        "outputId": "bafe9749-a9e9-4dee-abe1-1b68b86bcc76"
      },
      "source": [
        "init = tf.global_variables_initializer()\n",
        "\n",
        "errs = []\n",
        "val = []\n",
        "\n",
        "with tf.Session() as sess:\n",
        "  sess.run(init)\n",
        "  for epoch in range(n_epoches):\n",
        "    for batch in range(n_batches):\n",
        "      X_batch, y_batch = GetBatch(epoch, batch)\n",
        "      sess.run(train_step, feed_dict={X: X_batch, y: y_batch})\n",
        "    if epoch % 50 == 0:\n",
        "      print(sess.run(cross_entr, feed_dict={X: X_test, y: y_test}))\n",
        "    if epoch % 25 == 0:\n",
        "      errs.append(sess.run(cross_entr, feed_dict={X: X_batch, y: y_batch}))    \n",
        "      val.append(sess.run(cross_entr, feed_dict={X: X_test, y: y_test}))\n",
        "  y_res = sess.run(y_pred, feed_dict={X: X_test, y: y_test})"
      ],
      "execution_count": null,
      "outputs": [
        {
          "output_type": "stream",
          "text": [
            "0.6336386\n",
            "0.30390918\n",
            "0.28404218\n",
            "0.27837422\n",
            "0.27612665\n",
            "0.27492106\n",
            "0.27406874\n",
            "0.2740241\n",
            "0.27392885\n",
            "0.27395606\n",
            "0.27381572\n",
            "0.27404636\n",
            "0.2741465\n",
            "0.27431527\n",
            "0.27404404\n",
            "0.27427804\n",
            "0.27430055\n",
            "0.27403152\n",
            "0.27410224\n",
            "0.274266\n"
          ],
          "name": "stdout"
        }
      ]
    },
    {
      "cell_type": "code",
      "metadata": {
        "id": "oTBQ9ERqGcUJ",
        "colab": {
          "base_uri": "https://localhost:8080/",
          "height": 286
        },
        "outputId": "7f56e4c4-2c20-458d-e1e3-1a98aeedbcc2"
      },
      "source": [
        "plt.plot(val)"
      ],
      "execution_count": null,
      "outputs": [
        {
          "output_type": "execute_result",
          "data": {
            "text/plain": [
              "[<matplotlib.lines.Line2D at 0x7f1a2e4131d0>]"
            ]
          },
          "metadata": {
            "tags": []
          },
          "execution_count": 169
        },
        {
          "output_type": "display_data",
          "data": {
            "image/png": "[encoded data removed]",
            "text/plain": [
              "<Figure size 432x288 with 1 Axes>"
            ]
          },
          "metadata": {
            "tags": []
          }
        }
      ]
    },
    {
      "cell_type": "code",
      "metadata": {
        "id": "lOn9732zMwCG"
      },
      "source": [
        "y_res = (y_res >= 0.5).astype(np.int)"
      ],
      "execution_count": null,
      "outputs": []
    },
    {
      "cell_type": "code",
      "metadata": {
        "id": "KK_sriqOQ_cD",
        "colab": {
          "base_uri": "https://localhost:8080/",
          "height": 34
        },
        "outputId": "89ef8a7f-5f8d-402e-9654-dd1c39f140b6"
      },
      "source": [
        "from sklearn.metrics import accuracy_score\n",
        "\n",
        "accuracy_score(y_res, y_test)"
      ],
      "execution_count": null,
      "outputs": [
        {
          "output_type": "execute_result",
          "data": {
            "text/plain": [
              "0.885"
            ]
          },
          "metadata": {
            "tags": []
          },
          "execution_count": 172
        }
      ]
    },
    {
      "cell_type": "code",
      "metadata": {
        "id": "jpjstU3GRGVl",
        "colab": {
          "base_uri": "https://localhost:8080/",
          "height": 34
        },
        "outputId": "83dd855a-7b1a-47be-891f-ab99b26a0c6c"
      },
      "source": [
        "from sklearn.metrics import precision_score, recall_score\n",
        "\n",
        "recall_score(y_res, y_test)"
      ],
      "execution_count": null,
      "outputs": [
        {
          "output_type": "execute_result",
          "data": {
            "text/plain": [
              "0.8584905660377359"
            ]
          },
          "metadata": {
            "tags": []
          },
          "execution_count": 173
        }
      ]
    },
    {
      "cell_type": "code",
      "metadata": {
        "id": "-pfW84ldROx6",
        "colab": {
          "base_uri": "https://localhost:8080/",
          "height": 34
        },
        "outputId": "90e23b89-43c1-43c5-d070-f5631522e305"
      },
      "source": [
        "precision_score(y_res, y_test)"
      ],
      "execution_count": null,
      "outputs": [
        {
          "output_type": "execute_result",
          "data": {
            "text/plain": [
              "0.9191919191919192"
            ]
          },
          "metadata": {
            "tags": []
          },
          "execution_count": 174
        }
      ]
    },
    {
      "cell_type": "code",
      "metadata": {
        "id": "gX0db-vhRR78"
      },
      "source": [
        ""
      ],
      "execution_count": null,
      "outputs": []
    }
  ]
}