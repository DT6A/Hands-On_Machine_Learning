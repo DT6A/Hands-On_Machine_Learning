{
  "nbformat": 4,
  "nbformat_minor": 0,
  "metadata": {
    "colab": {
      "name": "ML04_SVMs.ipynb",
      "provenance": [],
      "collapsed_sections": [],
      "include_colab_link": true
    },
    "kernelspec": {
      "name": "python3",
      "display_name": "Python 3"
    }
  },
  "cells": [
    {
      "cell_type": "markdown",
      "metadata": {
        "id": "view-in-github",
        "colab_type": "text"
      },
      "source": [
        "<a href=\"https://colab.research.google.com/github/DT6A/Hands-On_Machine_Learning/blob/main/ML04_SVMs.ipynb\" target=\"_parent\"><img src=\"https://colab.research.google.com/assets/colab-badge.svg\" alt=\"Open In Colab\"/></a>"
      ]
    },
    {
      "cell_type": "markdown",
      "metadata": {
        "id": "7aC_wZKZCKvT"
      },
      "source": [
        "#Support Vector Machines"
      ]
    },
    {
      "cell_type": "markdown",
      "metadata": {
        "id": "5K17pmHYTW-c"
      },
      "source": [
        "##Linear SVM classifier"
      ]
    },
    {
      "cell_type": "code",
      "metadata": {
        "id": "dM-QbsWUCFDv",
        "colab": {
          "base_uri": "https://localhost:8080/",
          "height": 105
        },
        "outputId": "9a0abfe6-d5cb-4c6c-d4f7-1ad5c8dcc78f"
      },
      "source": [
        "import numpy as np\n",
        "from sklearn import datasets\n",
        "from sklearn.pipeline import Pipeline\n",
        "from sklearn.preprocessing import StandardScaler\n",
        "from sklearn.svm import LinearSVC\n",
        "\n",
        "iris = datasets.load_iris()\n",
        "X = iris['data'][:, (2, 3)] # petal width and length\n",
        "y = (iris['target'] == 2).astype(np.float64)\n",
        "\n",
        "svm_clf = Pipeline([\n",
        "    ('scaler', StandardScaler()),\n",
        "    ('linear_svm', LinearSVC(C=1, loss='hinge'))\n",
        "])\n",
        "\n",
        "svm_clf.fit(X, y)\n",
        "\n",
        "###SGDClassifier(loss='hinge', alpha=1/(m*C))"
      ],
      "execution_count": null,
      "outputs": [
        {
          "output_type": "execute_result",
          "data": {
            "text/plain": [
              "Pipeline(memory=None,\n",
              "     steps=[('scaler', StandardScaler(copy=True, with_mean=True, with_std=True)), ('linear_svm', LinearSVC(C=1, class_weight=None, dual=True, fit_intercept=True,\n",
              "     intercept_scaling=1, loss='hinge', max_iter=1000, multi_class='ovr',\n",
              "     penalty='l2', random_state=None, tol=0.0001, verbose=0))])"
            ]
          },
          "metadata": {
            "tags": []
          },
          "execution_count": 1
        }
      ]
    },
    {
      "cell_type": "code",
      "metadata": {
        "id": "fQ_g1yKYUOV2",
        "colab": {
          "base_uri": "https://localhost:8080/",
          "height": 34
        },
        "outputId": "71f27827-19ab-414c-fab5-02e4e540f308"
      },
      "source": [
        "svm_clf.predict([[5.5, 1.7]])"
      ],
      "execution_count": null,
      "outputs": [
        {
          "output_type": "execute_result",
          "data": {
            "text/plain": [
              "array([1.])"
            ]
          },
          "metadata": {
            "tags": []
          },
          "execution_count": 2
        }
      ]
    },
    {
      "cell_type": "markdown",
      "metadata": {
        "id": "l0xROGihVYh6"
      },
      "source": [
        "##Nonlinear SVM classifier"
      ]
    },
    {
      "cell_type": "markdown",
      "metadata": {
        "id": "ePxNNjtmZ644"
      },
      "source": [
        "###Polynomial features"
      ]
    },
    {
      "cell_type": "code",
      "metadata": {
        "id": "3e2ZLb3RUWJz",
        "colab": {
          "base_uri": "https://localhost:8080/",
          "height": 139
        },
        "outputId": "622c1c43-701a-4c0c-f21c-8a23ae66c3c5"
      },
      "source": [
        "from sklearn.datasets import make_moons\n",
        "from sklearn.pipeline import Pipeline\n",
        "from sklearn.preprocessing import PolynomialFeatures\n",
        "\n",
        "polynomial_svm_clf = Pipeline([\n",
        "    ('poly_features', PolynomialFeatures(degree=3)),\n",
        "    ('scaler', StandardScaler()),\n",
        "    ('svm_clf', LinearSVC(C=10, loss='hinge')),\n",
        "])\n",
        "\n",
        "X, y = make_moons(noise=0.2)\n",
        "\n",
        "polynomial_svm_clf.fit(X, y)"
      ],
      "execution_count": null,
      "outputs": [
        {
          "output_type": "stream",
          "text": [
            "/usr/local/lib/python3.6/dist-packages/sklearn/svm/base.py:931: ConvergenceWarning: Liblinear failed to converge, increase the number of iterations.\n",
            "  \"the number of iterations.\", ConvergenceWarning)\n"
          ],
          "name": "stderr"
        },
        {
          "output_type": "execute_result",
          "data": {
            "text/plain": [
              "Pipeline(memory=None,\n",
              "     steps=[('poly_features', PolynomialFeatures(degree=3, include_bias=True, interaction_only=False)), ('scaler', StandardScaler(copy=True, with_mean=True, with_std=True)), ('svm_clf', LinearSVC(C=10, class_weight=None, dual=True, fit_intercept=True,\n",
              "     intercept_scaling=1, loss='hinge', max_iter=1000, multi_class='ovr',\n",
              "     penalty='l2', random_state=None, tol=0.0001, verbose=0))])"
            ]
          },
          "metadata": {
            "tags": []
          },
          "execution_count": 3
        }
      ]
    },
    {
      "cell_type": "code",
      "metadata": {
        "id": "xtIZgnbfWjuY",
        "colab": {
          "base_uri": "https://localhost:8080/",
          "height": 286
        },
        "outputId": "b543adda-3c51-47b9-cdd0-a76dffb2a0ef"
      },
      "source": [
        "import matplotlib.pyplot as plt\n",
        "\n",
        "idx = (y == 1)\n",
        "plt.scatter(X[idx][:,0], X[idx][:, 1])\n",
        "plt.scatter(X[idx==False][:,0], X[idx==False][:, 1])\n",
        "\n",
        "y_pred = polynomial_svm_clf.predict(X)\n",
        "idx = (y_pred == 1)\n",
        "plt.scatter(X[idx][:,0], X[idx][:, 1], alpha=0.4)\n",
        "plt.scatter(X[idx==False][:,0], X[idx==False][:, 1], alpha=0.4)"
      ],
      "execution_count": null,
      "outputs": [
        {
          "output_type": "execute_result",
          "data": {
            "text/plain": [
              "<matplotlib.collections.PathCollection at 0x7f11d9716cc0>"
            ]
          },
          "metadata": {
            "tags": []
          },
          "execution_count": 4
        },
        {
          "output_type": "display_data",
          "data": {
            "image/png": "[encoded data removed]",
            "text/plain": [
              "<Figure size 432x288 with 1 Axes>"
            ]
          },
          "metadata": {
            "tags": []
          }
        }
      ]
    },
    {
      "cell_type": "markdown",
      "metadata": {
        "id": "kYKu_NIzaA9S"
      },
      "source": [
        "###Polynomial kernel"
      ]
    },
    {
      "cell_type": "code",
      "metadata": {
        "id": "txG87qTuXflf",
        "colab": {
          "base_uri": "https://localhost:8080/",
          "height": 122
        },
        "outputId": "b1dce18c-23e6-4d63-9051-29e7a2ce1f8e"
      },
      "source": [
        "from sklearn.svm import SVC\n",
        "\n",
        "poly_kernel_svm_clf = Pipeline([\n",
        "    ('scaler', StandardScaler()),\n",
        "    ('svm_clf', SVC(kernel='poly', degree=3, coef0=1, C=5))\n",
        "])\n",
        "\n",
        "poly_kernel_svm_clf.fit(X, y)"
      ],
      "execution_count": null,
      "outputs": [
        {
          "output_type": "execute_result",
          "data": {
            "text/plain": [
              "Pipeline(memory=None,\n",
              "     steps=[('scaler', StandardScaler(copy=True, with_mean=True, with_std=True)), ('svm_clf', SVC(C=5, cache_size=200, class_weight=None, coef0=1,\n",
              "  decision_function_shape='ovr', degree=3, gamma='auto_deprecated',\n",
              "  kernel='poly', max_iter=-1, probability=False, random_state=None,\n",
              "  shrinking=True, tol=0.001, verbose=False))])"
            ]
          },
          "metadata": {
            "tags": []
          },
          "execution_count": 5
        }
      ]
    },
    {
      "cell_type": "markdown",
      "metadata": {
        "id": "gaF2Tb_EaDp8"
      },
      "source": [
        "###Similarity functions"
      ]
    },
    {
      "cell_type": "markdown",
      "metadata": {
        "id": "RZgDRS9baJNH"
      },
      "source": [
        "$\\phi_\\gamma(x, l) = e^{(-l||x - l||^2)}$"
      ]
    },
    {
      "cell_type": "code",
      "metadata": {
        "id": "M7RBKmBHY0yZ",
        "colab": {
          "base_uri": "https://localhost:8080/",
          "height": 122
        },
        "outputId": "729b1390-b52d-4d18-bae0-1dddd05dd38f"
      },
      "source": [
        "rbf_kernel_svm_clf = Pipeline([\n",
        "    ('scaler', StandardScaler()),\n",
        "    ('svm_clf', SVC(kernel='rbf', gamma=5, C=0.001))\n",
        "])\n",
        "\n",
        "rbf_kernel_svm_clf.fit(X, y)"
      ],
      "execution_count": null,
      "outputs": [
        {
          "output_type": "execute_result",
          "data": {
            "text/plain": [
              "Pipeline(memory=None,\n",
              "     steps=[('scaler', StandardScaler(copy=True, with_mean=True, with_std=True)), ('svm_clf', SVC(C=0.001, cache_size=200, class_weight=None, coef0=0.0,\n",
              "  decision_function_shape='ovr', degree=3, gamma=5, kernel='rbf',\n",
              "  max_iter=-1, probability=False, random_state=None, shrinking=True,\n",
              "  tol=0.001, verbose=False))])"
            ]
          },
          "metadata": {
            "tags": []
          },
          "execution_count": 6
        }
      ]
    },
    {
      "cell_type": "markdown",
      "metadata": {
        "id": "GiQ9GIIndK5H"
      },
      "source": [
        "##SVM regression"
      ]
    },
    {
      "cell_type": "code",
      "metadata": {
        "id": "T4BBtRU9byZ1"
      },
      "source": [
        "from sklearn.datasets import make_regression\n",
        "\n",
        "X, y = make_regression(100, 1, noise=40)"
      ],
      "execution_count": null,
      "outputs": []
    },
    {
      "cell_type": "code",
      "metadata": {
        "id": "qXvqNZh7eTOL",
        "colab": {
          "base_uri": "https://localhost:8080/",
          "height": 286
        },
        "outputId": "4f26cb27-2da1-4ce3-e4b1-d56bf3ab546b"
      },
      "source": [
        "plt.scatter(X, y)"
      ],
      "execution_count": null,
      "outputs": [
        {
          "output_type": "execute_result",
          "data": {
            "text/plain": [
              "<matplotlib.collections.PathCollection at 0x7f11d6ea61d0>"
            ]
          },
          "metadata": {
            "tags": []
          },
          "execution_count": 8
        },
        {
          "output_type": "display_data",
          "data": {
            "image/png": "[encoded data removed]",
            "text/plain": [
              "<Figure size 432x288 with 1 Axes>"
            ]
          },
          "metadata": {
            "tags": []
          }
        }
      ]
    },
    {
      "cell_type": "code",
      "metadata": {
        "id": "xRQKCs_QerBb",
        "colab": {
          "base_uri": "https://localhost:8080/",
          "height": 105
        },
        "outputId": "5da62940-d009-44db-ebd0-e65fdca7cd20"
      },
      "source": [
        "from sklearn.svm import LinearSVR\n",
        "\n",
        "svm_reg = Pipeline([\n",
        "    ('scaler', StandardScaler()),\n",
        "    ('svm', LinearSVR(epsilon=1.5))\n",
        "])\n",
        "\n",
        "svm_reg.fit(X, y)"
      ],
      "execution_count": null,
      "outputs": [
        {
          "output_type": "execute_result",
          "data": {
            "text/plain": [
              "Pipeline(memory=None,\n",
              "     steps=[('scaler', StandardScaler(copy=True, with_mean=True, with_std=True)), ('svm', LinearSVR(C=1.0, dual=True, epsilon=1.5, fit_intercept=True,\n",
              "     intercept_scaling=1.0, loss='epsilon_insensitive', max_iter=1000,\n",
              "     random_state=None, tol=0.0001, verbose=0))])"
            ]
          },
          "metadata": {
            "tags": []
          },
          "execution_count": 9
        }
      ]
    },
    {
      "cell_type": "code",
      "metadata": {
        "id": "mFGjPNAVfNyb",
        "colab": {
          "base_uri": "https://localhost:8080/",
          "height": 286
        },
        "outputId": "9f4b90a6-9350-4f86-dce2-3369a25581cd"
      },
      "source": [
        "plt.scatter(X, y)\n",
        "plt.plot([-2, 2], svm_reg.predict([[-2], [2]]), c='r')"
      ],
      "execution_count": null,
      "outputs": [
        {
          "output_type": "execute_result",
          "data": {
            "text/plain": [
              "[<matplotlib.lines.Line2D at 0x7f11d6e4e5c0>]"
            ]
          },
          "metadata": {
            "tags": []
          },
          "execution_count": 10
        },
        {
          "output_type": "display_data",
          "data": {
            "image/png": "[encoded data removed]",
            "text/plain": [
              "<Figure size 432x288 with 1 Axes>"
            ]
          },
          "metadata": {
            "tags": []
          }
        }
      ]
    },
    {
      "cell_type": "code",
      "metadata": {
        "id": "pmh5E9XffnRz"
      },
      "source": [
        "X = np.linspace(-2, 2, 100)\n",
        "y = 0.58 * X ** 2 + np.random.rand(100)"
      ],
      "execution_count": null,
      "outputs": []
    },
    {
      "cell_type": "code",
      "metadata": {
        "id": "1IH1Kyu3gFuw",
        "colab": {
          "base_uri": "https://localhost:8080/",
          "height": 286
        },
        "outputId": "99a099a6-0068-481b-a38a-e73f4e362813"
      },
      "source": [
        "plt.scatter(X, y)"
      ],
      "execution_count": null,
      "outputs": [
        {
          "output_type": "execute_result",
          "data": {
            "text/plain": [
              "<matplotlib.collections.PathCollection at 0x7f11d6dd7a58>"
            ]
          },
          "metadata": {
            "tags": []
          },
          "execution_count": 12
        },
        {
          "output_type": "display_data",
          "data": {
            "image/png": "[encoded data removed]",
            "text/plain": [
              "<Figure size 432x288 with 1 Axes>"
            ]
          },
          "metadata": {
            "tags": []
          }
        }
      ]
    },
    {
      "cell_type": "code",
      "metadata": {
        "id": "r6uKA52YgHcV",
        "colab": {
          "base_uri": "https://localhost:8080/",
          "height": 139
        },
        "outputId": "446ee0c1-62cf-4aae-e6cb-a340cb6b8bb9"
      },
      "source": [
        "from sklearn.svm import SVR\n",
        "\n",
        "polynomial_svm_reg = Pipeline([\n",
        "    ('scaler', StandardScaler()),\n",
        "    ('svm', SVR(kernel='poly', degree=2, C=100, epsilon=0.1))\n",
        "])\n",
        "X = X.reshape((-1, 1))\n",
        "y = y.reshape((-1, 1))\n",
        "polynomial_svm_reg.fit(X, y)"
      ],
      "execution_count": null,
      "outputs": [
        {
          "output_type": "stream",
          "text": [
            "/usr/local/lib/python3.6/dist-packages/sklearn/utils/validation.py:761: DataConversionWarning: A column-vector y was passed when a 1d array was expected. Please change the shape of y to (n_samples, ), for example using ravel().\n",
            "  y = column_or_1d(y, warn=True)\n"
          ],
          "name": "stderr"
        },
        {
          "output_type": "execute_result",
          "data": {
            "text/plain": [
              "Pipeline(memory=None,\n",
              "     steps=[('scaler', StandardScaler(copy=True, with_mean=True, with_std=True)), ('svm', SVR(C=100, cache_size=200, coef0=0.0, degree=2, epsilon=0.1,\n",
              "  gamma='auto_deprecated', kernel='poly', max_iter=-1, shrinking=True,\n",
              "  tol=0.001, verbose=False))])"
            ]
          },
          "metadata": {
            "tags": []
          },
          "execution_count": 13
        }
      ]
    },
    {
      "cell_type": "code",
      "metadata": {
        "id": "yPLB8GrLhFE2",
        "colab": {
          "base_uri": "https://localhost:8080/",
          "height": 286
        },
        "outputId": "3093d7e7-4f03-4135-8f78-8faf227367d2"
      },
      "source": [
        "plt.scatter(X,y)\n",
        "plt.plot(np.linspace(-2, 2, 100), polynomial_svm_reg.predict(np.linspace(-2, 2, 100).reshape((-1, 1))), c='r')"
      ],
      "execution_count": null,
      "outputs": [
        {
          "output_type": "execute_result",
          "data": {
            "text/plain": [
              "[<matplotlib.lines.Line2D at 0x7f11d6e44860>]"
            ]
          },
          "metadata": {
            "tags": []
          },
          "execution_count": 14
        },
        {
          "output_type": "display_data",
          "data": {
            "image/png": "[encoded data removed]",
            "text/plain": [
              "<Figure size 432x288 with 1 Axes>"
            ]
          },
          "metadata": {
            "tags": []
          }
        }
      ]
    },
    {
      "cell_type": "code",
      "metadata": {
        "id": "qfMODpDcupK-"
      },
      "source": [
        "from sklearn.datasets import make_blobs\n",
        "\n",
        "X, y = make_moons(200, noise=0.4, random_state=42)"
      ],
      "execution_count": null,
      "outputs": []
    },
    {
      "cell_type": "code",
      "metadata": {
        "id": "r7zWHMLyu3Tl",
        "colab": {
          "base_uri": "https://localhost:8080/",
          "height": 286
        },
        "outputId": "f81ffbdf-3d9e-4d2a-f7b1-3468a8c229da"
      },
      "source": [
        "plt.scatter(X[y==1][:, 0], X[y==1][:, 1])\n",
        "plt.scatter(X[y==0][:, 0], X[y==0][:, 1])"
      ],
      "execution_count": null,
      "outputs": [
        {
          "output_type": "execute_result",
          "data": {
            "text/plain": [
              "<matplotlib.collections.PathCollection at 0x7f52afd064e0>"
            ]
          },
          "metadata": {
            "tags": []
          },
          "execution_count": 80
        },
        {
          "output_type": "display_data",
          "data": {
            "image/png": "[encoded data removed]",
            "text/plain": [
              "<Figure size 432x288 with 1 Axes>"
            ]
          },
          "metadata": {
            "tags": []
          }
        }
      ]
    },
    {
      "cell_type": "code",
      "metadata": {
        "id": "RzJoz-prvJXC",
        "colab": {
          "base_uri": "https://localhost:8080/",
          "height": 105
        },
        "outputId": "65f1598d-a22e-4128-f653-77a975788051"
      },
      "source": [
        "lin_svm_clf = Pipeline([\n",
        "    ('scaler', StandardScaler()),\n",
        "    ('linear_svm', LinearSVC(C=1, loss='hinge'))\n",
        "])\n",
        "\n",
        "X_train, X_test, y_train, y_test = X[:150], X[150:], y[:150], y[150:]\n",
        "\n",
        "lin_svm_clf.fit(X_train, y_train)"
      ],
      "execution_count": null,
      "outputs": [
        {
          "output_type": "execute_result",
          "data": {
            "text/plain": [
              "Pipeline(memory=None,\n",
              "     steps=[('scaler', StandardScaler(copy=True, with_mean=True, with_std=True)), ('linear_svm', LinearSVC(C=1, class_weight=None, dual=True, fit_intercept=True,\n",
              "     intercept_scaling=1, loss='hinge', max_iter=1000, multi_class='ovr',\n",
              "     penalty='l2', random_state=None, tol=0.0001, verbose=0))])"
            ]
          },
          "metadata": {
            "tags": []
          },
          "execution_count": 81
        }
      ]
    },
    {
      "cell_type": "code",
      "metadata": {
        "id": "5UHrjVO1wK69",
        "colab": {
          "base_uri": "https://localhost:8080/",
          "height": 122
        },
        "outputId": "82fc832e-202d-4f9e-ae55-f5cb9aa6e823"
      },
      "source": [
        "poly_kernel_svm_clf = Pipeline([\n",
        "    ('scaler', StandardScaler()),\n",
        "    ('svm_clf', SVC(kernel='poly', degree=3, coef0=1, C=5))\n",
        "])\n",
        "\n",
        "poly_kernel_svm_clf.fit(X_train, y_train)"
      ],
      "execution_count": null,
      "outputs": [
        {
          "output_type": "execute_result",
          "data": {
            "text/plain": [
              "Pipeline(memory=None,\n",
              "     steps=[('scaler', StandardScaler(copy=True, with_mean=True, with_std=True)), ('svm_clf', SVC(C=5, cache_size=200, class_weight=None, coef0=1,\n",
              "  decision_function_shape='ovr', degree=3, gamma='auto_deprecated',\n",
              "  kernel='poly', max_iter=-1, probability=False, random_state=None,\n",
              "  shrinking=True, tol=0.001, verbose=False))])"
            ]
          },
          "metadata": {
            "tags": []
          },
          "execution_count": 82
        }
      ]
    },
    {
      "cell_type": "code",
      "metadata": {
        "id": "eXkZusV9wXUM",
        "colab": {
          "base_uri": "https://localhost:8080/",
          "height": 190
        },
        "outputId": "9bfb9d0f-c19d-4483-90f8-a8330da8dd1c"
      },
      "source": [
        "from sklearn.linear_model import SGDClassifier\n",
        "\n",
        "SGD_svm_clf = Pipeline([\n",
        "    ('scaler', StandardScaler()),\n",
        "    ('SGD_clf', SGDClassifier(loss='hinge', alpha=1/(200*1)))\n",
        "])\n",
        "\n",
        "SGD_svm_clf.fit(X_train, y_train)"
      ],
      "execution_count": null,
      "outputs": [
        {
          "output_type": "stream",
          "text": [
            "/usr/local/lib/python3.6/dist-packages/sklearn/linear_model/stochastic_gradient.py:166: FutureWarning: max_iter and tol parameters have been added in SGDClassifier in 0.19. If both are left unset, they default to max_iter=5 and tol=None. If tol is not None, max_iter defaults to max_iter=1000. From 0.21, default max_iter will be 1000, and default tol will be 1e-3.\n",
            "  FutureWarning)\n"
          ],
          "name": "stderr"
        },
        {
          "output_type": "execute_result",
          "data": {
            "text/plain": [
              "Pipeline(memory=None,\n",
              "     steps=[('scaler', StandardScaler(copy=True, with_mean=True, with_std=True)), ('SGD_clf', SGDClassifier(alpha=0.005, average=False, class_weight=None,\n",
              "       early_stopping=False, epsilon=0.1, eta0=0.0, fit_intercept=True,\n",
              "       l1_ratio=0.15, learning_rate='optimal', loss='hinge', max_iter=None,\n",
              "       n_iter=None, n_iter_no_change=5, n_jobs=None, penalty='l2',\n",
              "       power_t=0.5, random_state=None, shuffle=True, tol=None,\n",
              "       validation_fraction=0.1, verbose=0, warm_start=False))])"
            ]
          },
          "metadata": {
            "tags": []
          },
          "execution_count": 83
        }
      ]
    },
    {
      "cell_type": "code",
      "metadata": {
        "id": "ZOT3wC5NwtmA",
        "colab": {
          "base_uri": "https://localhost:8080/",
          "height": 68
        },
        "outputId": "c843175a-ff1c-4d15-c8bd-50242f70f84f"
      },
      "source": [
        "from sklearn.metrics import accuracy_score\n",
        "\n",
        "print('Linear SVM:', accuracy_score(y_test, lin_svm_clf.predict(X_test)))\n",
        "print('SVC:', accuracy_score(y_test, poly_kernel_svm_clf.predict(X_test)))\n",
        "print('SGD SVM:', accuracy_score(y_test, SGD_svm_clf.predict(X_test)))"
      ],
      "execution_count": null,
      "outputs": [
        {
          "output_type": "stream",
          "text": [
            "Linear SVM: 0.8\n",
            "SVC: 0.82\n",
            "SGD SVM: 0.8\n"
          ],
          "name": "stdout"
        }
      ]
    },
    {
      "cell_type": "code",
      "metadata": {
        "id": "9Gf1Viy_xIYT",
        "colab": {
          "base_uri": "https://localhost:8080/",
          "height": 105
        },
        "outputId": "ec3ff87f-2202-4f9e-d66c-98b265bd00b3"
      },
      "source": [
        "from sklearn.datasets import fetch_mldata\n",
        "\n",
        "mnist = fetch_mldata('MNIST original')"
      ],
      "execution_count": null,
      "outputs": [
        {
          "output_type": "stream",
          "text": [
            "/usr/local/lib/python3.6/dist-packages/sklearn/utils/deprecation.py:77: DeprecationWarning: Function fetch_mldata is deprecated; fetch_mldata was deprecated in version 0.20 and will be removed in version 0.22\n",
            "  warnings.warn(msg, category=DeprecationWarning)\n",
            "/usr/local/lib/python3.6/dist-packages/sklearn/utils/deprecation.py:77: DeprecationWarning: Function mldata_filename is deprecated; mldata_filename was deprecated in version 0.20 and will be removed in version 0.22\n",
            "  warnings.warn(msg, category=DeprecationWarning)\n"
          ],
          "name": "stderr"
        }
      ]
    },
    {
      "cell_type": "code",
      "metadata": {
        "id": "uJ6sZ1jhx2Fn"
      },
      "source": [
        "X, y =  mnist['data'], mnist['target']"
      ],
      "execution_count": null,
      "outputs": []
    },
    {
      "cell_type": "code",
      "metadata": {
        "id": "QQXm9bsGyDQl"
      },
      "source": [
        "X_train, X_test, y_train, y_test = X[:60000], X[60000:], y[:60000], y[60000:]"
      ],
      "execution_count": null,
      "outputs": []
    },
    {
      "cell_type": "code",
      "metadata": {
        "id": "mbWmvqNuyIEy"
      },
      "source": [
        "shuffle_index = np.random.permutation(60000)\n",
        "X_train, y_train = X_train[shuffle_index], y_train[shuffle_index]"
      ],
      "execution_count": null,
      "outputs": []
    },
    {
      "cell_type": "code",
      "metadata": {
        "id": "Tq2v21C2yhEt",
        "colab": {
          "base_uri": "https://localhost:8080/",
          "height": 105
        },
        "outputId": "87822a3d-6c95-4af3-8b4c-4f527a458b46"
      },
      "source": [
        "scaler = StandardScaler()\n",
        "X_train_scaled = scaler.fit_transform(X_train)"
      ],
      "execution_count": null,
      "outputs": [
        {
          "output_type": "stream",
          "text": [
            "/usr/local/lib/python3.6/dist-packages/sklearn/utils/validation.py:595: DataConversionWarning: Data with input dtype uint8 was converted to float64 by StandardScaler.\n",
            "  warnings.warn(msg, DataConversionWarning)\n",
            "/usr/local/lib/python3.6/dist-packages/sklearn/utils/validation.py:595: DataConversionWarning: Data with input dtype uint8 was converted to float64 by StandardScaler.\n",
            "  warnings.warn(msg, DataConversionWarning)\n"
          ],
          "name": "stderr"
        }
      ]
    },
    {
      "cell_type": "code",
      "metadata": {
        "id": "fDcdqjaftqX_",
        "colab": {
          "base_uri": "https://localhost:8080/",
          "height": 34
        },
        "outputId": "773cd65f-8226-4b74-a454-fe814730a31f"
      },
      "source": [
        "len(X_train), len(y_train)"
      ],
      "execution_count": null,
      "outputs": [
        {
          "output_type": "execute_result",
          "data": {
            "text/plain": [
              "(60000, 60000)"
            ]
          },
          "metadata": {
            "tags": []
          },
          "execution_count": 42
        }
      ]
    },
    {
      "cell_type": "code",
      "metadata": {
        "id": "vU60NBrCyKCk"
      },
      "source": [
        "from sklearn.model_selection import GridSearchCV\n",
        "\n",
        "grid_params = [{'C': np.linspace(0.01, 5, 20), 'penalty': ['l2'], 'loss': ['hinge',  'squared_hinge']}]\n",
        "\n",
        "lin_svm_grid = GridSearchCV(LinearSVC(), grid_params, scoring='accuracy', cv=3, verbose=3, n_jobs=-1)\n",
        "#lin_svm_grid.fit(X_train_scaled, y_train)"
      ],
      "execution_count": null,
      "outputs": []
    },
    {
      "cell_type": "code",
      "metadata": {
        "id": "Ws6SdQKAzPQg"
      },
      "source": [
        "#X_train, X_val, y_train, y_val = X_train_scaled[:50000], X_train_scaled[50000:], y_train[:50000], y_train[50000:]"
      ],
      "execution_count": null,
      "outputs": []
    },
    {
      "cell_type": "code",
      "metadata": {
        "id": "O3Ymd0s5tvBk",
        "colab": {
          "base_uri": "https://localhost:8080/",
          "height": 34
        },
        "outputId": "d9358eae-733a-4fdf-e9f3-c587b60f2bbf"
      },
      "source": [
        "len(y_val), len(X_val)"
      ],
      "execution_count": null,
      "outputs": [
        {
          "output_type": "execute_result",
          "data": {
            "text/plain": [
              "(10000, 10000)"
            ]
          },
          "metadata": {
            "tags": []
          },
          "execution_count": 51
        }
      ]
    },
    {
      "cell_type": "code",
      "metadata": {
        "id": "wh-bYLUa6yG7"
      },
      "source": [
        "lin_svm_clf = LinearSVC(loss='hinge')\n",
        "\n",
        "#lin_svm_clf.fit(X_train, y_train)\n",
        "#accuracy_score(y_val, lin_svm_clf.predict(X_val))"
      ],
      "execution_count": null,
      "outputs": []
    },
    {
      "cell_type": "code",
      "metadata": {
        "id": "KnEmfnSe69iM",
        "colab": {
          "base_uri": "https://localhost:8080/",
          "height": 173
        },
        "outputId": "38afe966-3252-4793-d58d-be041daa6086"
      },
      "source": [
        "sgd_svm = SGDClassifier(loss='hinge', alpha=1/(len(X_train)*1))\n",
        "sgd_svm.fit(X_train, y_train)"
      ],
      "execution_count": null,
      "outputs": [
        {
          "output_type": "stream",
          "text": [
            "/usr/local/lib/python3.6/dist-packages/sklearn/linear_model/stochastic_gradient.py:166: FutureWarning: max_iter and tol parameters have been added in SGDClassifier in 0.19. If both are left unset, they default to max_iter=5 and tol=None. If tol is not None, max_iter defaults to max_iter=1000. From 0.21, default max_iter will be 1000, and default tol will be 1e-3.\n",
            "  FutureWarning)\n"
          ],
          "name": "stderr"
        },
        {
          "output_type": "execute_result",
          "data": {
            "text/plain": [
              "SGDClassifier(alpha=2e-05, average=False, class_weight=None,\n",
              "       early_stopping=False, epsilon=0.1, eta0=0.0, fit_intercept=True,\n",
              "       l1_ratio=0.15, learning_rate='optimal', loss='hinge', max_iter=None,\n",
              "       n_iter=None, n_iter_no_change=5, n_jobs=None, penalty='l2',\n",
              "       power_t=0.5, random_state=None, shuffle=True, tol=None,\n",
              "       validation_fraction=0.1, verbose=0, warm_start=False)"
            ]
          },
          "metadata": {
            "tags": []
          },
          "execution_count": 52
        }
      ]
    },
    {
      "cell_type": "code",
      "metadata": {
        "id": "-jCXTiSStKld",
        "colab": {
          "base_uri": "https://localhost:8080/",
          "height": 34
        },
        "outputId": "443081ca-914c-408a-ca3d-dcace635393e"
      },
      "source": [
        "accuracy_score(y_val, sgd_svm.predict(X_val))"
      ],
      "execution_count": null,
      "outputs": [
        {
          "output_type": "execute_result",
          "data": {
            "text/plain": [
              "0.9096"
            ]
          },
          "metadata": {
            "tags": []
          },
          "execution_count": 53
        }
      ]
    },
    {
      "cell_type": "code",
      "metadata": {
        "id": "3T-KeogjuLP0",
        "colab": {
          "base_uri": "https://localhost:8080/",
          "height": 326
        },
        "outputId": "698dee4b-43f6-4528-fa44-f26556f255eb"
      },
      "source": [
        "grid_params = [{'alpha': 1 / (len(X_train)*np.linspace(0.1, 0.5, 5)), 'loss': ['hinge'], 'penalty': ['l1', 'l2']}]\n",
        "\n",
        "sgd_svm_grid = GridSearchCV(SGDClassifier(), grid_params, scoring='accuracy', cv=4, verbose=5, n_jobs=-1)\n",
        "sgd_svm_grid.fit(X_train_scaled, y_train)"
      ],
      "execution_count": null,
      "outputs": [
        {
          "output_type": "stream",
          "text": [
            "Fitting 4 folds for each of 10 candidates, totalling 40 fits\n"
          ],
          "name": "stdout"
        },
        {
          "output_type": "stream",
          "text": [
            "[Parallel(n_jobs=-1)]: Using backend LokyBackend with 2 concurrent workers.\n",
            "[Parallel(n_jobs=-1)]: Done  14 tasks      | elapsed:  1.4min\n",
            "[Parallel(n_jobs=-1)]: Done  40 out of  40 | elapsed:  3.8min finished\n",
            "/usr/local/lib/python3.6/dist-packages/sklearn/linear_model/stochastic_gradient.py:166: FutureWarning: max_iter and tol parameters have been added in SGDClassifier in 0.19. If both are left unset, they default to max_iter=5 and tol=None. If tol is not None, max_iter defaults to max_iter=1000. From 0.21, default max_iter will be 1000, and default tol will be 1e-3.\n",
            "  FutureWarning)\n"
          ],
          "name": "stderr"
        },
        {
          "output_type": "execute_result",
          "data": {
            "text/plain": [
              "GridSearchCV(cv=4, error_score='raise-deprecating',\n",
              "       estimator=SGDClassifier(alpha=0.0001, average=False, class_weight=None,\n",
              "       early_stopping=False, epsilon=0.1, eta0=0.0, fit_intercept=True,\n",
              "       l1_ratio=0.15, learning_rate='optimal', loss='hinge', max_iter=None,\n",
              "       n_iter=None, n_iter_no_change=5, n_jobs=None, penalty='l2',\n",
              "       power_t=0.5, random_state=None, shuffle=True, tol=None,\n",
              "       validation_fraction=0.1, verbose=0, warm_start=False),\n",
              "       fit_params=None, iid='warn', n_jobs=-1,\n",
              "       param_grid=[{'alpha': array([1.66667e-04, 8.33333e-05, 5.55556e-05, 4.16667e-05, 3.33333e-05]), 'loss': ['hinge'], 'penalty': ['l1', 'l2']}],\n",
              "       pre_dispatch='2*n_jobs', refit=True, return_train_score='warn',\n",
              "       scoring='accuracy', verbose=5)"
            ]
          },
          "metadata": {
            "tags": []
          },
          "execution_count": 90
        }
      ]
    },
    {
      "cell_type": "code",
      "metadata": {
        "id": "EhMLTPxatV_L",
        "colab": {
          "base_uri": "https://localhost:8080/",
          "height": 34
        },
        "outputId": "562e521f-86a9-49dc-f1cd-1d57f08dd202"
      },
      "source": [
        "sgd_svm_grid.best_params_"
      ],
      "execution_count": null,
      "outputs": [
        {
          "output_type": "execute_result",
          "data": {
            "text/plain": [
              "{'alpha': 4.1666666666666665e-05, 'loss': 'hinge', 'penalty': 'l2'}"
            ]
          },
          "metadata": {
            "tags": []
          },
          "execution_count": 91
        }
      ]
    },
    {
      "cell_type": "code",
      "metadata": {
        "id": "ynORSPKrw7t6",
        "colab": {
          "base_uri": "https://localhost:8080/",
          "height": 34
        },
        "outputId": "05c2e909-c340-46aa-c693-af228e51e7a6"
      },
      "source": [
        "sgd_svm_grid.best_score_"
      ],
      "execution_count": null,
      "outputs": [
        {
          "output_type": "execute_result",
          "data": {
            "text/plain": [
              "0.9126166666666666"
            ]
          },
          "metadata": {
            "tags": []
          },
          "execution_count": 92
        }
      ]
    },
    {
      "cell_type": "code",
      "metadata": {
        "id": "ySPYRK23tYnN",
        "colab": {
          "base_uri": "https://localhost:8080/",
          "height": 102
        },
        "outputId": "1a1284e8-2f96-44a6-f9fd-c93bad2f7e37"
      },
      "source": [
        "1 / (len(X_train)*np.linspace(0.01, 5, 20))"
      ],
      "execution_count": null,
      "outputs": [
        {
          "output_type": "execute_result",
          "data": {
            "text/plain": [
              "array([2.00000000e-03, 7.33590734e-05, 3.73647984e-05, 2.50659631e-05,\n",
              "       1.88585608e-05, 1.51153540e-05, 1.26120146e-05, 1.08200456e-05,\n",
              "       9.47394665e-06, 8.42572062e-06, 7.58634458e-06, 6.89905592e-06,\n",
              "       6.32595305e-06, 5.84076237e-06, 5.42469665e-06, 5.06396588e-06,\n",
              "       4.74821942e-06, 4.46953658e-06, 4.22175314e-06, 4.00000000e-06])"
            ]
          },
          "metadata": {
            "tags": []
          },
          "execution_count": 60
        }
      ]
    },
    {
      "cell_type": "code",
      "metadata": {
        "id": "Yo1bv5t5vlTA",
        "colab": {
          "base_uri": "https://localhost:8080/",
          "height": 88
        },
        "outputId": "f5cc9633-1084-401f-c5db-bbf687428402"
      },
      "source": [
        "accuracy_score(y_test, sgd_svm_grid.predict(scaler.transform(X_test)))"
      ],
      "execution_count": null,
      "outputs": [
        {
          "output_type": "stream",
          "text": [
            "/usr/local/lib/python3.6/dist-packages/sklearn/utils/validation.py:595: DataConversionWarning: Data with input dtype uint8 was converted to float64 by StandardScaler.\n",
            "  warnings.warn(msg, DataConversionWarning)\n"
          ],
          "name": "stderr"
        },
        {
          "output_type": "execute_result",
          "data": {
            "text/plain": [
              "0.9164"
            ]
          },
          "metadata": {
            "tags": []
          },
          "execution_count": 95
        }
      ]
    },
    {
      "cell_type": "code",
      "metadata": {
        "id": "ksuowBtzxGc8",
        "colab": {
          "base_uri": "https://localhost:8080/",
          "height": 343
        },
        "outputId": "4820c203-3437-431b-c73a-6542e2f2482c"
      },
      "source": [
        "grid_params = [\n",
        "    {'kernel': ['rbf'], 'C': np.linspace(0.0001, 3, 5), 'gamma': np.linspace(0.01, 5, 5), 'decision_function_shape': [\"ovr\"]},\n",
        "    {'kernel': ['poly'], 'C': np.linspace(0.0001, 3, 5), 'degree': np.linspace(2, 5, 3), \n",
        "     'decision_function_shape': [\"ovr\"]}\n",
        "]\n",
        "\n",
        "svm_grid = GridSearchCV(SVC(), grid_params, scoring='accuracy', cv=3, verbose=5, n_jobs=-1)\n",
        "\n",
        "svm_grid.fit(X_train_scaled[:1000], y_train[:1000])"
      ],
      "execution_count": null,
      "outputs": [
        {
          "output_type": "stream",
          "text": [
            "Fitting 3 folds for each of 40 candidates, totalling 120 fits\n"
          ],
          "name": "stdout"
        },
        {
          "output_type": "stream",
          "text": [
            "[Parallel(n_jobs=-1)]: Using backend LokyBackend with 2 concurrent workers.\n",
            "[Parallel(n_jobs=-1)]: Done  14 tasks      | elapsed:   14.3s\n",
            "[Parallel(n_jobs=-1)]: Done  68 tasks      | elapsed:  1.1min\n",
            "[Parallel(n_jobs=-1)]: Done 120 out of 120 | elapsed:  1.9min finished\n",
            "/usr/local/lib/python3.6/dist-packages/sklearn/model_selection/_search.py:841: DeprecationWarning: The default of the `iid` parameter will change from True to False in version 0.22 and will be removed in 0.24. This will change numeric results when test-set sizes are unequal.\n",
            "  DeprecationWarning)\n",
            "/usr/local/lib/python3.6/dist-packages/sklearn/svm/base.py:196: FutureWarning: The default value of gamma will change from 'auto' to 'scale' in version 0.22 to account better for unscaled features. Set gamma explicitly to 'auto' or 'scale' to avoid this warning.\n",
            "  \"avoid this warning.\", FutureWarning)\n"
          ],
          "name": "stderr"
        },
        {
          "output_type": "execute_result",
          "data": {
            "text/plain": [
              "GridSearchCV(cv=3, error_score='raise-deprecating',\n",
              "       estimator=SVC(C=1.0, cache_size=200, class_weight=None, coef0=0.0,\n",
              "  decision_function_shape='ovr', degree=3, gamma='auto_deprecated',\n",
              "  kernel='rbf', max_iter=-1, probability=False, random_state=None,\n",
              "  shrinking=True, tol=0.001, verbose=False),\n",
              "       fit_params=None, iid='warn', n_jobs=-1,\n",
              "       param_grid=[{'kernel': ['rbf'], 'C': array([1.00000e-04, 7.50075e-01, 1.50005e+00, 2.25002e+00, 3.00000e+00]), 'gamma': array([0.01  , 1.2575, 2.505 , 3.7525, 5.    ]), 'decision_function_shape': ['ovr']}, {'kernel': ['poly'], 'C': array([1.00000e-04, 7.50075e-01, 1.50005e+00, 2.25002e+00, 3.00000e+00]), 'degree': array([2. , 3.5, 5. ]), 'decision_function_shape': ['ovr']}],\n",
              "       pre_dispatch='2*n_jobs', refit=True, return_train_score='warn',\n",
              "       scoring='accuracy', verbose=5)"
            ]
          },
          "metadata": {
            "tags": []
          },
          "execution_count": 25
        }
      ]
    },
    {
      "cell_type": "code",
      "metadata": {
        "id": "Bz72FObk1EMt",
        "colab": {
          "base_uri": "https://localhost:8080/",
          "height": 34
        },
        "outputId": "f395b198-616a-4b4b-87be-de06fe009dae"
      },
      "source": [
        "svm_grid.best_params_"
      ],
      "execution_count": null,
      "outputs": [
        {
          "output_type": "execute_result",
          "data": {
            "text/plain": [
              "{'C': 3.0, 'decision_function_shape': 'ovr', 'degree': 2.0, 'kernel': 'poly'}"
            ]
          },
          "metadata": {
            "tags": []
          },
          "execution_count": 26
        }
      ]
    },
    {
      "cell_type": "code",
      "metadata": {
        "id": "APxJErM72Oej",
        "colab": {
          "base_uri": "https://localhost:8080/",
          "height": 34
        },
        "outputId": "025bb2e0-417a-4ed4-e531-8efd5acde034"
      },
      "source": [
        "svm_grid.best_score_"
      ],
      "execution_count": null,
      "outputs": [
        {
          "output_type": "execute_result",
          "data": {
            "text/plain": [
              "0.821"
            ]
          },
          "metadata": {
            "tags": []
          },
          "execution_count": 27
        }
      ]
    },
    {
      "cell_type": "code",
      "metadata": {
        "id": "g60-H1he5kp2",
        "colab": {
          "base_uri": "https://localhost:8080/",
          "height": 292
        },
        "outputId": "a5236671-dbf6-4938-a979-015e703ca0dd"
      },
      "source": [
        "grid_params = [\n",
        "    {'kernel': ['rbf'], 'C': np.linspace(3, 5, 5), 'gamma': ['auto'], 'decision_function_shape': [\"ovr\"]},\n",
        "    {'kernel': ['poly'], 'C': np.linspace(2, 4, 5), 'degree': np.linspace(2, 4, 2), \n",
        "     'decision_function_shape': [\"ovr\"]}\n",
        "]\n",
        "\n",
        "svm_grid = GridSearchCV(SVC(), grid_params, scoring='accuracy', cv=3, verbose=2, n_jobs=-1)\n",
        "\n",
        "svm_grid.fit(X_train_scaled[:1000], y_train[:1000])"
      ],
      "execution_count": null,
      "outputs": [
        {
          "output_type": "stream",
          "text": [
            "Fitting 3 folds for each of 15 candidates, totalling 45 fits\n"
          ],
          "name": "stdout"
        },
        {
          "output_type": "stream",
          "text": [
            "[Parallel(n_jobs=-1)]: Using backend LokyBackend with 2 concurrent workers.\n",
            "[Parallel(n_jobs=-1)]: Done  37 tasks      | elapsed:   30.7s\n",
            "[Parallel(n_jobs=-1)]: Done  45 out of  45 | elapsed:   37.6s finished\n",
            "/usr/local/lib/python3.6/dist-packages/sklearn/model_selection/_search.py:841: DeprecationWarning: The default of the `iid` parameter will change from True to False in version 0.22 and will be removed in 0.24. This will change numeric results when test-set sizes are unequal.\n",
            "  DeprecationWarning)\n"
          ],
          "name": "stderr"
        },
        {
          "output_type": "execute_result",
          "data": {
            "text/plain": [
              "GridSearchCV(cv=3, error_score='raise-deprecating',\n",
              "       estimator=SVC(C=1.0, cache_size=200, class_weight=None, coef0=0.0,\n",
              "  decision_function_shape='ovr', degree=3, gamma='auto_deprecated',\n",
              "  kernel='rbf', max_iter=-1, probability=False, random_state=None,\n",
              "  shrinking=True, tol=0.001, verbose=False),\n",
              "       fit_params=None, iid='warn', n_jobs=-1,\n",
              "       param_grid=[{'kernel': ['rbf'], 'C': array([3. , 3.5, 4. , 4.5, 5. ]), 'gamma': ['auto'], 'decision_function_shape': ['ovr']}, {'kernel': ['poly'], 'C': array([2. , 2.5, 3. , 3.5, 4. ]), 'degree': array([2., 4.]), 'decision_function_shape': ['ovr']}],\n",
              "       pre_dispatch='2*n_jobs', refit=True, return_train_score='warn',\n",
              "       scoring='accuracy', verbose=2)"
            ]
          },
          "metadata": {
            "tags": []
          },
          "execution_count": 28
        }
      ]
    },
    {
      "cell_type": "code",
      "metadata": {
        "id": "ajKoTR6f5zvH",
        "colab": {
          "base_uri": "https://localhost:8080/",
          "height": 34
        },
        "outputId": "dc593641-1180-4bc0-cb2d-bae9ed120924"
      },
      "source": [
        "svm_grid.best_params_"
      ],
      "execution_count": null,
      "outputs": [
        {
          "output_type": "execute_result",
          "data": {
            "text/plain": [
              "{'C': 3.5, 'decision_function_shape': 'ovr', 'gamma': 'auto', 'kernel': 'rbf'}"
            ]
          },
          "metadata": {
            "tags": []
          },
          "execution_count": 29
        }
      ]
    },
    {
      "cell_type": "code",
      "metadata": {
        "id": "ktBojsfj538_"
      },
      "source": [
        "best_svm = svm_grid.best_estimator_"
      ],
      "execution_count": null,
      "outputs": []
    },
    {
      "cell_type": "code",
      "metadata": {
        "id": "N0fW2LNz6JFT",
        "colab": {
          "base_uri": "https://localhost:8080/",
          "height": 85
        },
        "outputId": "a6d48fa5-527d-4f44-9012-8847cd942dc9"
      },
      "source": [
        "best_svm.fit(X_train_scaled, y_train)"
      ],
      "execution_count": null,
      "outputs": [
        {
          "output_type": "execute_result",
          "data": {
            "text/plain": [
              "SVC(C=3.5, cache_size=200, class_weight=None, coef0=0.0,\n",
              "  decision_function_shape='ovr', degree=3, gamma='auto', kernel='rbf',\n",
              "  max_iter=-1, probability=False, random_state=None, shrinking=True,\n",
              "  tol=0.001, verbose=False)"
            ]
          },
          "metadata": {
            "tags": []
          },
          "execution_count": 31
        }
      ]
    },
    {
      "cell_type": "code",
      "metadata": {
        "id": "BX9z9Wal6NMf",
        "colab": {
          "base_uri": "https://localhost:8080/",
          "height": 88
        },
        "outputId": "2c9524d5-22d3-4d62-b229-62d36623f9b5"
      },
      "source": [
        "from sklearn.metrics import accuracy_score\n",
        "\n",
        "accuracy_score(y_test, best_svm.predict(scaler.transform(X_test)))"
      ],
      "execution_count": null,
      "outputs": [
        {
          "output_type": "stream",
          "text": [
            "/usr/local/lib/python3.6/dist-packages/sklearn/utils/validation.py:595: DataConversionWarning: Data with input dtype uint8 was converted to float64 by StandardScaler.\n",
            "  warnings.warn(msg, DataConversionWarning)\n"
          ],
          "name": "stderr"
        },
        {
          "output_type": "execute_result",
          "data": {
            "text/plain": [
              "0.9724"
            ]
          },
          "metadata": {
            "tags": []
          },
          "execution_count": 34
        }
      ]
    },
    {
      "cell_type": "code",
      "metadata": {
        "id": "x5nzTbjfDZ8S",
        "colab": {
          "base_uri": "https://localhost:8080/",
          "height": 34
        },
        "outputId": "4828c671-e968-44e1-f4ac-7307ad4746f2"
      },
      "source": [
        "from sklearn.datasets import fetch_california_housing \n",
        "housing = fetch_california_housing() \n",
        "X = housing[\"data\"] \n",
        "y = housing[\"target\"]"
      ],
      "execution_count": null,
      "outputs": [
        {
          "output_type": "stream",
          "text": [
            "Downloading Cal. housing from https://ndownloader.figshare.com/files/5976036 to /root/scikit_learn_data\n"
          ],
          "name": "stderr"
        }
      ]
    },
    {
      "cell_type": "code",
      "metadata": {
        "id": "jnfMTUYuEkeL"
      },
      "source": [
        "from sklearn.model_selection import train_test_split\n",
        "\n",
        "X_train, X_test, y_train, y_test = train_test_split(X, y, test_size=0.2, random_state=42)"
      ],
      "execution_count": null,
      "outputs": []
    },
    {
      "cell_type": "code",
      "metadata": {
        "id": "IoSgCvq5ElDO"
      },
      "source": [
        "from sklearn.preprocessing import StandardScaler \n",
        "\n",
        "scaler = StandardScaler()\n",
        "X_train_scaled = scaler.fit_transform(X_train)\n",
        "X_test_scaled = scaler.transform(X_test)"
      ],
      "execution_count": null,
      "outputs": []
    },
    {
      "cell_type": "code",
      "metadata": {
        "id": "nYY0eELDFCf0",
        "colab": {
          "base_uri": "https://localhost:8080/",
          "height": 122
        },
        "outputId": "ec7aa245-87e4-47ce-c5ff-506910a7d088"
      },
      "source": [
        "lin_svr = LinearSVR(random_state=42)\n",
        "lin_svr.fit(X_train_scaled, y_train)"
      ],
      "execution_count": null,
      "outputs": [
        {
          "output_type": "stream",
          "text": [
            "/usr/local/lib/python3.6/dist-packages/sklearn/svm/base.py:931: ConvergenceWarning: Liblinear failed to converge, increase the number of iterations.\n",
            "  \"the number of iterations.\", ConvergenceWarning)\n"
          ],
          "name": "stderr"
        },
        {
          "output_type": "execute_result",
          "data": {
            "text/plain": [
              "LinearSVR(C=1.0, dual=True, epsilon=0.0, fit_intercept=True,\n",
              "     intercept_scaling=1.0, loss='epsilon_insensitive', max_iter=1000,\n",
              "     random_state=42, tol=0.0001, verbose=0)"
            ]
          },
          "metadata": {
            "tags": []
          },
          "execution_count": 117
        }
      ]
    },
    {
      "cell_type": "code",
      "metadata": {
        "id": "LXRtEJ3OFMds",
        "colab": {
          "base_uri": "https://localhost:8080/",
          "height": 34
        },
        "outputId": "aafa2c9c-4300-4f3d-80ba-4b1556edd60d"
      },
      "source": [
        "from sklearn.metrics import mean_squared_error \n",
        "y_pred = lin_svr.predict(X_train_scaled) \n",
        "mse = mean_squared_error(y_train, y_pred) \n",
        "mse"
      ],
      "execution_count": null,
      "outputs": [
        {
          "output_type": "execute_result",
          "data": {
            "text/plain": [
              "0.949968822217229"
            ]
          },
          "metadata": {
            "tags": []
          },
          "execution_count": 118
        }
      ]
    },
    {
      "cell_type": "code",
      "metadata": {
        "id": "7VdlXuJAFTZE",
        "colab": {
          "base_uri": "https://localhost:8080/",
          "height": 34
        },
        "outputId": "6c0f1c8d-8ede-4270-95e0-0a59bb490ce9"
      },
      "source": [
        "np.sqrt(mse)"
      ],
      "execution_count": null,
      "outputs": [
        {
          "output_type": "execute_result",
          "data": {
            "text/plain": [
              "0.9746634404845752"
            ]
          },
          "metadata": {
            "tags": []
          },
          "execution_count": 119
        }
      ]
    },
    {
      "cell_type": "code",
      "metadata": {
        "id": "AnVjj5E8FVnW",
        "colab": {
          "base_uri": "https://localhost:8080/",
          "height": 1261
        },
        "outputId": "175673b7-dc24-44a2-ce4c-7a970a60fcd9"
      },
      "source": [
        "from sklearn.svm import SVR \n",
        "from sklearn.model_selection import RandomizedSearchCV \n",
        "from scipy.stats import reciprocal, uniform \n",
        "\n",
        "param_distributions = {\"gamma\": reciprocal(0.001, 0.1), \"C\": uniform(1, 10)} \n",
        "rnd_search_cv = RandomizedSearchCV(SVR(), param_distributions, n_iter=10, verbose=2, cv=3, random_state=42) \n",
        "rnd_search_cv.fit(X_train_scaled, y_train)"
      ],
      "execution_count": null,
      "outputs": [
        {
          "output_type": "stream",
          "text": [
            "Fitting 3 folds for each of 10 candidates, totalling 30 fits\n",
            "[CV] C=4.745401188473625, gamma=0.07969454818643928 ..................\n"
          ],
          "name": "stdout"
        },
        {
          "output_type": "stream",
          "text": [
            "[Parallel(n_jobs=1)]: Using backend SequentialBackend with 1 concurrent workers.\n"
          ],
          "name": "stderr"
        },
        {
          "output_type": "stream",
          "text": [
            "[CV] ... C=4.745401188473625, gamma=0.07969454818643928, total=  10.7s\n",
            "[CV] C=4.745401188473625, gamma=0.07969454818643928 ..................\n"
          ],
          "name": "stdout"
        },
        {
          "output_type": "stream",
          "text": [
            "[Parallel(n_jobs=1)]: Done   1 out of   1 | elapsed:   13.7s remaining:    0.0s\n"
          ],
          "name": "stderr"
        },
        {
          "output_type": "stream",
          "text": [
            "[CV] ... C=4.745401188473625, gamma=0.07969454818643928, total=  10.6s\n",
            "[CV] C=4.745401188473625, gamma=0.07969454818643928 ..................\n",
            "[CV] ... C=4.745401188473625, gamma=0.07969454818643928, total=  10.8s\n",
            "[CV] C=8.31993941811405, gamma=0.015751320499779724 ..................\n",
            "[CV] ... C=8.31993941811405, gamma=0.015751320499779724, total=  10.1s\n",
            "[CV] C=8.31993941811405, gamma=0.015751320499779724 ..................\n",
            "[CV] ... C=8.31993941811405, gamma=0.015751320499779724, total=   9.8s\n",
            "[CV] C=8.31993941811405, gamma=0.015751320499779724 ..................\n",
            "[CV] ... C=8.31993941811405, gamma=0.015751320499779724, total=  10.1s\n",
            "[CV] C=2.560186404424365, gamma=0.002051110418843397 .................\n",
            "[CV] .. C=2.560186404424365, gamma=0.002051110418843397, total=   9.1s\n",
            "[CV] C=2.560186404424365, gamma=0.002051110418843397 .................\n",
            "[CV] .. C=2.560186404424365, gamma=0.002051110418843397, total=   9.1s\n",
            "[CV] C=2.560186404424365, gamma=0.002051110418843397 .................\n",
            "[CV] .. C=2.560186404424365, gamma=0.002051110418843397, total=   9.1s\n",
            "[CV] C=1.5808361216819946, gamma=0.05399484409787431 .................\n",
            "[CV] .. C=1.5808361216819946, gamma=0.05399484409787431, total=   9.1s\n",
            "[CV] C=1.5808361216819946, gamma=0.05399484409787431 .................\n",
            "[CV] .. C=1.5808361216819946, gamma=0.05399484409787431, total=   9.0s\n",
            "[CV] C=1.5808361216819946, gamma=0.05399484409787431 .................\n",
            "[CV] .. C=1.5808361216819946, gamma=0.05399484409787431, total=   9.2s\n",
            "[CV] C=7.011150117432088, gamma=0.026070247583707663 .................\n",
            "[CV] .. C=7.011150117432088, gamma=0.026070247583707663, total=  10.3s\n",
            "[CV] C=7.011150117432088, gamma=0.026070247583707663 .................\n",
            "[CV] .. C=7.011150117432088, gamma=0.026070247583707663, total=  10.2s\n",
            "[CV] C=7.011150117432088, gamma=0.026070247583707663 .................\n",
            "[CV] .. C=7.011150117432088, gamma=0.026070247583707663, total=  10.5s\n",
            "[CV] C=1.2058449429580245, gamma=0.0870602087830485 ..................\n",
            "[CV] ... C=1.2058449429580245, gamma=0.0870602087830485, total=   8.9s\n",
            "[CV] C=1.2058449429580245, gamma=0.0870602087830485 ..................\n",
            "[CV] ... C=1.2058449429580245, gamma=0.0870602087830485, total=   9.1s\n",
            "[CV] C=1.2058449429580245, gamma=0.0870602087830485 ..................\n",
            "[CV] ... C=1.2058449429580245, gamma=0.0870602087830485, total=   9.0s\n",
            "[CV] C=9.324426408004218, gamma=0.0026587543983272693 ................\n",
            "[CV] . C=9.324426408004218, gamma=0.0026587543983272693, total=   9.2s\n",
            "[CV] C=9.324426408004218, gamma=0.0026587543983272693 ................\n",
            "[CV] . C=9.324426408004218, gamma=0.0026587543983272693, total=   9.1s\n",
            "[CV] C=9.324426408004218, gamma=0.0026587543983272693 ................\n",
            "[CV] . C=9.324426408004218, gamma=0.0026587543983272693, total=   9.2s\n",
            "[CV] C=2.818249672071006, gamma=0.0023270677083837795 ................\n",
            "[CV] . C=2.818249672071006, gamma=0.0023270677083837795, total=   9.1s\n",
            "[CV] C=2.818249672071006, gamma=0.0023270677083837795 ................\n",
            "[CV] . C=2.818249672071006, gamma=0.0023270677083837795, total=   9.1s\n",
            "[CV] C=2.818249672071006, gamma=0.0023270677083837795 ................\n",
            "[CV] . C=2.818249672071006, gamma=0.0023270677083837795, total=   9.1s\n",
            "[CV] C=4.042422429595377, gamma=0.011207606211860567 .................\n",
            "[CV] .. C=4.042422429595377, gamma=0.011207606211860567, total=   9.2s\n",
            "[CV] C=4.042422429595377, gamma=0.011207606211860567 .................\n",
            "[CV] .. C=4.042422429595377, gamma=0.011207606211860567, total=   9.4s\n",
            "[CV] C=4.042422429595377, gamma=0.011207606211860567 .................\n",
            "[CV] .. C=4.042422429595377, gamma=0.011207606211860567, total=   9.3s\n",
            "[CV] C=5.319450186421157, gamma=0.003823475224675185 .................\n",
            "[CV] .. C=5.319450186421157, gamma=0.003823475224675185, total=   9.1s\n",
            "[CV] C=5.319450186421157, gamma=0.003823475224675185 .................\n",
            "[CV] .. C=5.319450186421157, gamma=0.003823475224675185, total=   9.2s\n",
            "[CV] C=5.319450186421157, gamma=0.003823475224675185 .................\n",
            "[CV] .. C=5.319450186421157, gamma=0.003823475224675185, total=   9.2s\n"
          ],
          "name": "stdout"
        },
        {
          "output_type": "stream",
          "text": [
            "[Parallel(n_jobs=1)]: Done  30 out of  30 | elapsed:  6.3min finished\n"
          ],
          "name": "stderr"
        },
        {
          "output_type": "execute_result",
          "data": {
            "text/plain": [
              "RandomizedSearchCV(cv=3, error_score='raise-deprecating',\n",
              "          estimator=SVR(C=1.0, cache_size=200, coef0=0.0, degree=3, epsilon=0.1,\n",
              "  gamma='auto_deprecated', kernel='rbf', max_iter=-1, shrinking=True,\n",
              "  tol=0.001, verbose=False),\n",
              "          fit_params=None, iid='warn', n_iter=10, n_jobs=None,\n",
              "          param_distributions={'gamma': <scipy.stats._distn_infrastructure.rv_frozen object at 0x7f11d6d116a0>, 'C': <scipy.stats._distn_infrastructure.rv_frozen object at 0x7f11d3cb8470>},\n",
              "          pre_dispatch='2*n_jobs', random_state=42, refit=True,\n",
              "          return_train_score='warn', scoring=None, verbose=2)"
            ]
          },
          "metadata": {
            "tags": []
          },
          "execution_count": 120
        }
      ]
    },
    {
      "cell_type": "code",
      "metadata": {
        "id": "Iq8JG7R7FnIr",
        "colab": {
          "base_uri": "https://localhost:8080/",
          "height": 68
        },
        "outputId": "63e37a15-0586-41c9-c246-072a93d7cf72"
      },
      "source": [
        "rnd_search_cv.best_estimator_"
      ],
      "execution_count": null,
      "outputs": [
        {
          "output_type": "execute_result",
          "data": {
            "text/plain": [
              "SVR(C=4.745401188473625, cache_size=200, coef0=0.0, degree=3, epsilon=0.1,\n",
              "  gamma=0.07969454818643928, kernel='rbf', max_iter=-1, shrinking=True,\n",
              "  tol=0.001, verbose=False)"
            ]
          },
          "metadata": {
            "tags": []
          },
          "execution_count": 121
        }
      ]
    },
    {
      "cell_type": "code",
      "metadata": {
        "id": "8ECG7RMCHauD",
        "colab": {
          "base_uri": "https://localhost:8080/",
          "height": 34
        },
        "outputId": "725ff02a-70c6-493b-d379-ee5cbb6594c3"
      },
      "source": [
        "y_pred = rnd_search_cv.best_estimator_.predict(X_train_scaled) \n",
        "mse = mean_squared_error(y_train, y_pred) \n",
        "np.sqrt(mse)"
      ],
      "execution_count": null,
      "outputs": [
        {
          "output_type": "execute_result",
          "data": {
            "text/plain": [
              "0.5727524770785356"
            ]
          },
          "metadata": {
            "tags": []
          },
          "execution_count": 122
        }
      ]
    },
    {
      "cell_type": "code",
      "metadata": {
        "id": "L9fx_9-kHgUX",
        "colab": {
          "base_uri": "https://localhost:8080/",
          "height": 34
        },
        "outputId": "d1cb7245-dc6c-4dea-b209-a9124778dcd4"
      },
      "source": [
        "y_pred = rnd_search_cv.best_estimator_.predict(X_test_scaled)\n",
        "mse = mean_squared_error(y_test, y_pred) \n",
        "np.sqrt(mse)"
      ],
      "execution_count": null,
      "outputs": [
        {
          "output_type": "execute_result",
          "data": {
            "text/plain": [
              "0.592916838552874"
            ]
          },
          "metadata": {
            "tags": []
          },
          "execution_count": 123
        }
      ]
    },
    {
      "cell_type": "code",
      "metadata": {
        "id": "dU84WgkQHlRl"
      },
      "source": [
        ""
      ],
      "execution_count": null,
      "outputs": []
    }
  ]
}