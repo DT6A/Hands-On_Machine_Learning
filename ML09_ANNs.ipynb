{
  "nbformat": 4,
  "nbformat_minor": 0,
  "metadata": {
    "colab": {
      "name": "ML09_ANNs.ipynb",
      "provenance": [],
      "toc_visible": true,
      "include_colab_link": true
    },
    "kernelspec": {
      "name": "python3",
      "display_name": "Python 3"
    },
    "accelerator": "GPU"
  },
  "cells": [
    {
      "cell_type": "markdown",
      "metadata": {
        "id": "view-in-github",
        "colab_type": "text"
      },
      "source": [
        "<a href=\"https://colab.research.google.com/github/DT6A/Hands-On_Machine_Learning/blob/main/ML09_ANNs.ipynb\" target=\"_parent\"><img src=\"https://colab.research.google.com/assets/colab-badge.svg\" alt=\"Open In Colab\"/></a>"
      ]
    },
    {
      "cell_type": "markdown",
      "metadata": {
        "id": "_MtzXg95Ljr2"
      },
      "source": [
        "##Perceptron"
      ]
    },
    {
      "cell_type": "markdown",
      "metadata": {
        "id": "egr4swPtMEgR"
      },
      "source": [
        "$h_w = step(w^Tx)$\n",
        "\n",
        "$heaviside(z) = \\begin{cases} 0, & \\mbox{if } z < 0 \\\\ 1, & \\mbox{if } z \\geq 0 \\end{cases}$\n",
        "\n",
        "$sgn(z) = \\begin{cases} -1, & \\mbox{if } z < 0 \\\\ 0, & \\mbox{if } z = 0, \\\\ 1, & \\mbox{if } z > 0 \\end{cases}$\n",
        "\n",
        "$w_{i,  j} ^ {next\\ step} = w_{i,  j} + \\eta(y_j - \\hat{y_j})x_i$"
      ]
    },
    {
      "cell_type": "code",
      "metadata": {
        "id": "HKYNZPaXLXsj"
      },
      "source": [
        "import numpy as np\n",
        "from sklearn.datasets import load_iris\n",
        "from sklearn.linear_model import Perceptron\n",
        "\n",
        "iris = load_iris()\n",
        "X = iris.data[:, (2, 3)] # petal length and width\n",
        "y = (iris.target == 0).astype(np.int) # Is Setosa\n",
        "\n",
        "per_clf = Perceptron(random_state=42)\n",
        "per_clf.fit(X, y)\n",
        "\n",
        "y_pred = per_clf.predict([[2, 0.5]])"
      ],
      "execution_count": null,
      "outputs": []
    },
    {
      "cell_type": "code",
      "metadata": {
        "id": "E2UTyShUP8kP",
        "colab": {
          "base_uri": "https://localhost:8080/",
          "height": 34
        },
        "outputId": "f2c8a8d4-6050-4e5f-97b1-e92577eb6779"
      },
      "source": [
        "y_pred"
      ],
      "execution_count": null,
      "outputs": [
        {
          "output_type": "execute_result",
          "data": {
            "text/plain": [
              "array([1])"
            ]
          },
          "metadata": {
            "tags": []
          },
          "execution_count": 4
        }
      ]
    },
    {
      "cell_type": "markdown",
      "metadata": {
        "id": "Q1qVJmxqSBOV"
      },
      "source": [
        "## Multi-Layer Perceptron"
      ]
    },
    {
      "cell_type": "markdown",
      "metadata": {
        "id": "Edxg9eO2UXwg"
      },
      "source": [
        "$\\sigma(z) = 1 / (1 + e^{-z})$\n",
        "\n",
        "$tanh(z) = 2\\sigma(2z) - 1$\n",
        "\n",
        "$ReLU(z) = max(0, z)$"
      ]
    },
    {
      "cell_type": "code",
      "metadata": {
        "id": "ahRXjWc_CXhU"
      },
      "source": [
        "from sklearn.datasets import fetch_openml\n",
        "\n",
        "mnist = fetch_openml('mnist_784')\n",
        "X = mnist['data']\n",
        "y = mnist['target']"
      ],
      "execution_count": null,
      "outputs": []
    },
    {
      "cell_type": "code",
      "metadata": {
        "id": "ILTVSP1LFVta"
      },
      "source": [
        "y = y.astype(np.int)"
      ],
      "execution_count": null,
      "outputs": []
    },
    {
      "cell_type": "code",
      "metadata": {
        "id": "7QQww5C5CfKK"
      },
      "source": [
        "import numpy as np\n",
        "from sklearn.preprocessing import StandardScaler\n",
        "\n",
        "X = StandardScaler().fit_transform(X)\n",
        "\n",
        "X_train, X_test, y_train, y_test = X[:60000], X[60000:], y[:60000], y[60000:]\n",
        "\n",
        "shuffle_index = np.random.permutation(60000)\n",
        "X_train, y_train = X_train[shuffle_index], y_train[shuffle_index]"
      ],
      "execution_count": null,
      "outputs": []
    },
    {
      "cell_type": "markdown",
      "metadata": {
        "id": "iQzoWWgZGYiO"
      },
      "source": [
        "###High-level API"
      ]
    },
    {
      "cell_type": "code",
      "metadata": {
        "id": "shmTd8BhQiqT",
        "colab": {
          "base_uri": "https://localhost:8080/",
          "height": 255
        },
        "outputId": "9da597ff-9389-40c0-c15f-906631b296ca"
      },
      "source": [
        "import tensorflow as tf\n",
        "\n",
        "feature_cols = tf.contrib.learn.infer_real_valued_columns_from_input(X_train)\n",
        "dnn_clf = tf.contrib.learn.DNNClassifier(hidden_units=[300, 100], n_classes=10, \n",
        "                                         feature_columns=feature_cols)\n",
        "#dnn_clf = tf.contrib.learn.SKCompact(dnn_clf)\n",
        "dnn_clf.fit(X_train, y_train, batch_size=50, steps=40000)"
      ],
      "execution_count": null,
      "outputs": [
        {
          "output_type": "stream",
          "text": [
            "W0621 17:29:41.292802 140046145337216 data_feeder.py:283] float64 is not supported by many models, consider casting to float32.\n",
            "W0621 17:29:41.311930 140046145337216 estimator.py:453] Using temporary folder as model directory: /tmp/tmpozubkd5n\n",
            "W0621 17:29:43.723870 140046145337216 data_feeder.py:283] float64 is not supported by many models, consider casting to float32.\n",
            "W0621 17:29:43.932893 140046145337216 deprecation.py:506] From /usr/local/lib/python3.6/dist-packages/tensorflow/python/training/adagrad.py:76: calling Constant.__init__ (from tensorflow.python.ops.init_ops) with dtype is deprecated and will be removed in a future version.\n",
            "Instructions for updating:\n",
            "Call initializer instance with the dtype argument instead of passing it to the constructor\n",
            "W0621 17:29:44.017581 140046145337216 deprecation.py:323] From /usr/local/lib/python3.6/dist-packages/tensorflow/contrib/learn/python/learn/estimators/head.py:678: ModelFnOps.__new__ (from tensorflow.contrib.learn.python.learn.estimators.model_fn) is deprecated and will be removed in a future version.\n",
            "Instructions for updating:\n",
            "When switching to tf.estimator.Estimator, use tf.estimator.EstimatorSpec. You can use the `estimator_spec` method to create an equivalent one.\n",
            "W0621 17:29:44.133346 140046145337216 deprecation.py:323] From /usr/local/lib/python3.6/dist-packages/tensorflow/python/ops/array_ops.py:1354: add_dispatch_support.<locals>.wrapper (from tensorflow.python.ops.array_ops) is deprecated and will be removed in a future version.\n",
            "Instructions for updating:\n",
            "Use tf.where in 2.0, which has the same broadcast rule as np.where\n"
          ],
          "name": "stderr"
        },
        {
          "output_type": "execute_result",
          "data": {
            "text/plain": [
              "DNNClassifier(params={'head': <tensorflow.contrib.learn.python.learn.estimators.head._MultiClassHead object at 0x7f5eaf62fb70>, 'hidden_units': [300, 100], 'feature_columns': (_RealValuedColumn(column_name='', dimension=784, default_value=None, dtype=tf.float64, normalizer=None),), 'optimizer': None, 'activation_fn': <function relu at 0x7f5ebd40cae8>, 'dropout': None, 'gradient_clip_norm': None, 'embedding_lr_multipliers': None, 'input_layer_min_slice_size': None})"
            ]
          },
          "metadata": {
            "tags": []
          },
          "execution_count": 11
        }
      ]
    },
    {
      "cell_type": "code",
      "metadata": {
        "id": "5mDFI75TBn0w",
        "colab": {
          "base_uri": "https://localhost:8080/",
          "height": 50
        },
        "outputId": "c736ae17-620d-45ae-dd0e-f66b649077dd"
      },
      "source": [
        "from sklearn.metrics import accuracy_score\n",
        "\n",
        "y_pred = dnn_clf.predict(X_test)\n",
        "y_p = []\n",
        "\n",
        "for i in y_pred:\n",
        "  y_p.append(i)\n",
        "\n",
        "accuracy_score(y_p, y_test)"
      ],
      "execution_count": null,
      "outputs": [
        {
          "output_type": "stream",
          "text": [
            "W0621 17:31:59.855468 140046145337216 data_feeder.py:283] float64 is not supported by many models, consider casting to float32.\n"
          ],
          "name": "stderr"
        },
        {
          "output_type": "execute_result",
          "data": {
            "text/plain": [
              "0.9781"
            ]
          },
          "metadata": {
            "tags": []
          },
          "execution_count": 14
        }
      ]
    },
    {
      "cell_type": "markdown",
      "metadata": {
        "id": "msgERCbbGcxo"
      },
      "source": [
        "###Low-level API"
      ]
    },
    {
      "cell_type": "code",
      "metadata": {
        "id": "WL9Avnen0OwI"
      },
      "source": [
        "import numpy as np"
      ],
      "execution_count": null,
      "outputs": []
    },
    {
      "cell_type": "code",
      "metadata": {
        "id": "Oox_L8qiF-oj"
      },
      "source": [
        "import tensorflow as tf\n",
        "\n",
        "tf.reset_default_graph()\n",
        "\n",
        "n_inputs = 28*28\n",
        "n_hidden1 = 300\n",
        "n_hidden2 = 150\n",
        "n_hidden3 = 70\n",
        "n_outputs = 10\n",
        "tf.reset_default_graph()"
      ],
      "execution_count": null,
      "outputs": []
    },
    {
      "cell_type": "code",
      "metadata": {
        "id": "R13Jgx4nG9y4"
      },
      "source": [
        "X = tf.placeholder(tf.float32, (None, 28*28), name='X')\n",
        "y = tf.placeholder(tf.int64, (None), name='y')"
      ],
      "execution_count": null,
      "outputs": []
    },
    {
      "cell_type": "code",
      "metadata": {
        "id": "JqAcS_ydHGs_"
      },
      "source": [
        "def neuron_layer(X, n_neurons, name, activation=None):\n",
        "  with tf.name_scope(name):\n",
        "    n_inputs = int(X.get_shape()[1])\n",
        "    stddev = 2 / (np.sqrt(n_inputs + n_neurons))\n",
        "    init = tf.truncated_normal((n_inputs, n_neurons), stddev=stddev)\n",
        "    W = tf.Variable(init, name='kernel')\n",
        "    b = tf.Variable(tf.zeros([n_neurons]), name='bias')\n",
        "    Z = tf.matmul(X, W) + b\n",
        "    if activation is not None:\n",
        "      return activation(Z)\n",
        "    else:\n",
        "      return Z"
      ],
      "execution_count": null,
      "outputs": []
    },
    {
      "cell_type": "code",
      "metadata": {
        "id": "i368nT8GKLVk"
      },
      "source": [
        "with tf.name_scope('dnn'):\n",
        "  hidden1 = neuron_layer(X, n_hidden1, name='hidden1', activation=tf.nn.relu)\n",
        "  hidden2 = neuron_layer(hidden1, n_hidden2, name='hidden2', activation=tf.nn.relu)\n",
        "  logits = neuron_layer(hidden2, n_outputs, name='outputs')"
      ],
      "execution_count": null,
      "outputs": []
    },
    {
      "cell_type": "code",
      "metadata": {
        "id": "vCvkjWlbLzAS"
      },
      "source": [
        "with tf.name_scope('dnn'):\n",
        "  hidden1 = tf.layers.dense(X, n_hidden1, name='hidden1', activation=tf.nn.relu)\n",
        "  hidden2 = tf.layers.dense(hidden1, n_hidden2, name='hidden2', activation=tf.nn.relu)\n",
        "  hidden3 = tf.layers.dense(hidden2, n_hidden3, name='hidden3', activation=tf.nn.relu)\n",
        "  logits = tf.layers.dense(hidden3, n_outputs, name='outputs')"
      ],
      "execution_count": null,
      "outputs": []
    },
    {
      "cell_type": "code",
      "metadata": {
        "id": "tC4m28v9MLi2"
      },
      "source": [
        "with tf.name_scope('loss'):\n",
        "  xentropy = tf.nn.sparse_softmax_cross_entropy_with_logits(labels=y, logits=logits)\n",
        "  loss = tf.reduce_mean(xentropy, name='loss')"
      ],
      "execution_count": null,
      "outputs": []
    },
    {
      "cell_type": "code",
      "metadata": {
        "id": "MjJlz8juM2eV"
      },
      "source": [
        "learning_rate = 0.01\n",
        "\n",
        "with tf.name_scope('train'):\n",
        "  optimizer = tf.train.GradientDescentOptimizer(learning_rate)\n",
        "  training_op = optimizer.minimize(loss)"
      ],
      "execution_count": null,
      "outputs": []
    },
    {
      "cell_type": "code",
      "metadata": {
        "id": "Y1rMVBVwOJsg"
      },
      "source": [
        "with tf.name_scope('eval'):\n",
        "  correct = tf.nn.in_top_k(logits, y, 1)\n",
        "  accuracy = tf.reduce_mean(tf.cast(correct, tf.float32))"
      ],
      "execution_count": null,
      "outputs": []
    },
    {
      "cell_type": "code",
      "metadata": {
        "id": "xS0dcl0NO336"
      },
      "source": [
        "init = tf.global_variables_initializer()\n",
        "saver = tf.train.Saver()"
      ],
      "execution_count": null,
      "outputs": []
    },
    {
      "cell_type": "code",
      "metadata": {
        "id": "4s95H6oFPdYi",
        "colab": {
          "base_uri": "https://localhost:8080/",
          "height": 84
        },
        "outputId": "c740ad7a-bf08-40cb-8a49-d5c7f78d5089"
      },
      "source": [
        "from tensorflow.examples.tutorials.mnist import input_data\n",
        "\n",
        "mnist = input_data.read_data_sets('/tmp/data/')"
      ],
      "execution_count": null,
      "outputs": [
        {
          "output_type": "stream",
          "text": [
            "Extracting /tmp/data/train-images-idx3-ubyte.gz\n",
            "Extracting /tmp/data/train-labels-idx1-ubyte.gz\n",
            "Extracting /tmp/data/t10k-images-idx3-ubyte.gz\n",
            "Extracting /tmp/data/t10k-labels-idx1-ubyte.gz\n"
          ],
          "name": "stdout"
        }
      ]
    },
    {
      "cell_type": "code",
      "metadata": {
        "id": "0N7k7kbmP16H"
      },
      "source": [
        "n_epochs = 20\n",
        "batch_size = 50"
      ],
      "execution_count": null,
      "outputs": []
    },
    {
      "cell_type": "code",
      "metadata": {
        "id": "tCe175NaP7wJ",
        "colab": {
          "base_uri": "https://localhost:8080/",
          "height": 353
        },
        "outputId": "09715f30-f532-491d-e803-7551e6b7d036"
      },
      "source": [
        "with tf.Session() as sess:\n",
        "  init.run()\n",
        "  for epoch in range(n_epochs):\n",
        "    for iteration in range(mnist.train.num_examples // batch_size):\n",
        "      X_batch, y_batch = mnist.train.next_batch(batch_size)\n",
        "      sess.run(training_op, feed_dict={X: X_batch, y: y_batch})\n",
        "    acc_train = accuracy.eval(feed_dict={X: X_batch, y: y_batch})\n",
        "    acc_val = accuracy.eval(feed_dict={X: mnist.validation.images, y: mnist.validation.labels})\n",
        "    \n",
        "    print(epoch, 'Train accuracy:', acc_train, 'Val accuracy:', acc_val)\n",
        "  save_path = saver.save(sess, './my_model_final/ckpt')    "
      ],
      "execution_count": null,
      "outputs": [
        {
          "output_type": "stream",
          "text": [
            "0 Train accuracy: 0.86 Val accuracy: 0.9094\n",
            "1 Train accuracy: 0.96 Val accuracy: 0.9298\n",
            "2 Train accuracy: 0.92 Val accuracy: 0.9452\n",
            "3 Train accuracy: 0.96 Val accuracy: 0.9468\n",
            "4 Train accuracy: 0.98 Val accuracy: 0.955\n",
            "5 Train accuracy: 0.88 Val accuracy: 0.9592\n",
            "6 Train accuracy: 0.92 Val accuracy: 0.959\n",
            "7 Train accuracy: 1.0 Val accuracy: 0.964\n",
            "8 Train accuracy: 1.0 Val accuracy: 0.9676\n",
            "9 Train accuracy: 0.98 Val accuracy: 0.9672\n",
            "10 Train accuracy: 0.98 Val accuracy: 0.9688\n",
            "11 Train accuracy: 1.0 Val accuracy: 0.9718\n",
            "12 Train accuracy: 0.94 Val accuracy: 0.9702\n",
            "13 Train accuracy: 0.98 Val accuracy: 0.9742\n",
            "14 Train accuracy: 0.96 Val accuracy: 0.9742\n",
            "15 Train accuracy: 1.0 Val accuracy: 0.9752\n",
            "16 Train accuracy: 1.0 Val accuracy: 0.9748\n",
            "17 Train accuracy: 1.0 Val accuracy: 0.9778\n",
            "18 Train accuracy: 1.0 Val accuracy: 0.977\n",
            "19 Train accuracy: 1.0 Val accuracy: 0.975\n"
          ],
          "name": "stdout"
        }
      ]
    },
    {
      "cell_type": "code",
      "metadata": {
        "id": "xZG0GOPcS1OX"
      },
      "source": [
        "new_img = mnist.test.next_batch(1)"
      ],
      "execution_count": null,
      "outputs": []
    },
    {
      "cell_type": "code",
      "metadata": {
        "id": "1YKegEbWRLsh"
      },
      "source": [
        "with tf.Session() as sess:\n",
        "  saver.restore(sess, save_path)\n",
        "  X_new_scaled = new_img[0]\n",
        "  Z = logits.eval(feed_dict={X: X_new_scaled})\n",
        "  y_pred = np.argmax(Z, axis=1)"
      ],
      "execution_count": null,
      "outputs": []
    },
    {
      "cell_type": "code",
      "metadata": {
        "id": "p4CFkJKbR86b",
        "colab": {
          "base_uri": "https://localhost:8080/",
          "height": 34
        },
        "outputId": "d8d4912a-ac6e-482d-9d97-e27af1713d3b"
      },
      "source": [
        "y_pred, new_img[1]"
      ],
      "execution_count": null,
      "outputs": [
        {
          "output_type": "execute_result",
          "data": {
            "text/plain": [
              "(array([7]), array([7], dtype=uint8))"
            ]
          },
          "metadata": {
            "tags": []
          },
          "execution_count": 58
        }
      ]
    },
    {
      "cell_type": "code",
      "metadata": {
        "id": "3E8Kny2wSaRu"
      },
      "source": [
        "from sklearn.metrics import precision_score\n",
        "\n",
        "with tf.Session() as sess:\n",
        "  saver.restore(sess, save_path)\n",
        "  data_test = mnist.test.next_batch(5000)\n",
        "  Z = logits.eval(feed_dict={X: np.array(data_test[0])})\n",
        "  y_pred = np.argmax(Z, axis=1)"
      ],
      "execution_count": null,
      "outputs": []
    },
    {
      "cell_type": "code",
      "metadata": {
        "id": "S4mXCWD31Yjw",
        "colab": {
          "base_uri": "https://localhost:8080/",
          "height": 34
        },
        "outputId": "2ff35fac-318a-4077-c83f-3723a9bb32e2"
      },
      "source": [
        "precision_score(data_test[1], y_pred, average=None).mean()"
      ],
      "execution_count": null,
      "outputs": [
        {
          "output_type": "execute_result",
          "data": {
            "text/plain": [
              "0.9755771316847245"
            ]
          },
          "metadata": {
            "tags": []
          },
          "execution_count": 67
        }
      ]
    },
    {
      "cell_type": "code",
      "metadata": {
        "id": "ujbbkesf1myy",
        "colab": {
          "base_uri": "https://localhost:8080/",
          "height": 34
        },
        "outputId": "cac08af6-e4cd-4b9e-f49c-8a8dc69a088f"
      },
      "source": [
        "data_test[1]"
      ],
      "execution_count": null,
      "outputs": [
        {
          "output_type": "execute_result",
          "data": {
            "text/plain": [
              "array([2, 9, 6, ..., 1, 5, 4], dtype=uint8)"
            ]
          },
          "metadata": {
            "tags": []
          },
          "execution_count": 42
        }
      ]
    },
    {
      "cell_type": "code",
      "metadata": {
        "id": "39PaoXZg1oZh"
      },
      "source": [
        ""
      ],
      "execution_count": null,
      "outputs": []
    }
  ]
}